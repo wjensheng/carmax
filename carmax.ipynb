{
  "nbformat": 4,
  "nbformat_minor": 0,
  "metadata": {
    "colab": {
      "name": "carmax.ipynb",
      "version": "0.3.2",
      "provenance": [],
      "collapsed_sections": []
    },
    "kernelspec": {
      "name": "python3",
      "display_name": "Python 3"
    },
    "accelerator": "GPU"
  },
  "cells": [
    {
      "metadata": {
        "id": "JqoXDnW9d067",
        "colab_type": "code",
        "colab": {}
      },
      "cell_type": "code",
      "source": [
        "# Load the Drive helper and mount\n",
        "from google.colab import drive\n",
        "\n",
        "# This will prompt for authorization.\n",
        "drive.mount('/content/drive')"
      ],
      "execution_count": 0,
      "outputs": []
    },
    {
      "metadata": {
        "id": "H0mnbXnud9bZ",
        "colab_type": "code",
        "colab": {}
      },
      "cell_type": "code",
      "source": [
        "!pip install -U feather-format\n",
        "!pip install fastai\n",
        "!pip install -U seaborn"
      ],
      "execution_count": 0,
      "outputs": []
    },
    {
      "metadata": {
        "id": "E0QvCyFpd9yV",
        "colab_type": "code",
        "colab": {}
      },
      "cell_type": "code",
      "source": [
        "from fastai.tabular import *\n",
        "\n",
        "import pandas as pd\n",
        "import seaborn as sns\n",
        "import matplotlib.pyplot as plt\n",
        "import numpy as np\n",
        "import datetime\n",
        "import feather\n",
        "import os\n",
        "\n",
        "import warnings\n",
        "warnings.simplefilter(action='ignore')\n",
        "\n",
        "PATH='/content/drive/My Drive/Colab Notebooks/'\n",
        "\n",
        "%matplotlib inline"
      ],
      "execution_count": 0,
      "outputs": []
    },
    {
      "metadata": {
        "id": "4e0WAWVGgzpR",
        "colab_type": "text"
      },
      "cell_type": "markdown",
      "source": [
        "## Task: forecast (quarterly) sales\n",
        "\n",
        "---\n",
        "\n",
        "Idea: the final day a car is listed on CarMax is the day it is sold.\n",
        "\n",
        "To test the idea, the following hypothesis is formed:  171,076 cars are sold between March and May 2016. The figure is based on page 26 of the [10Q](http://d1lge852tjjqow.cloudfront.net/CIK-0001170010/19db8b54-bd72-4706-8283-623089d29c63.pdf) by CarMax.\n",
        "\n",
        "We shall find out if this is true by creating a dataframe only with entries from March to May 2016."
      ]
    },
    {
      "metadata": {
        "id": "6043x8143Tvs",
        "colab_type": "code",
        "outputId": "b881d3cc-cdd6-478f-cbc1-0f17baa72bf4",
        "colab": {
          "base_uri": "https://localhost:8080/",
          "height": 52
        }
      },
      "cell_type": "code",
      "source": [
        "%%time\n",
        "df = feather.read_dataframe('/content/drive/My Drive/Colab Notebooks/dataset/kmx_test_processed.feather')\n",
        "\n",
        "# before_period = df[df['date_added'] < datetime.date(2016,3,1)]['url'].tolist()\n",
        "after_period = df[df['date_added'] > datetime.date(2016,5,31)]['url'].tolist()\n",
        "during_period = df[(df['date_added'] <= datetime.date(2016,5,31)) & \n",
        "                   (df['date_added'] >= datetime.date(2016,3,1))]['url'].tolist()\n",
        "\n",
        "period_df = df[(df['url'].isin(during_period)) & \n",
        "               (~df['url'].isin(after_period)) & \n",
        "               (df['date_added'] <= datetime.date(2016,5,31)) & \n",
        "               (df['date_added'] >= datetime.date(2016,3,1))]\n",
        "\n",
        "feather.write_dataframe(period_df, '/content/drive/My Drive/Colab Notebooks/dataset/period_df.feather')"
      ],
      "execution_count": 4,
      "outputs": [
        {
          "output_type": "stream",
          "text": [
            "CPU times: user 11 s, sys: 1.43 s, total: 12.4 s\n",
            "Wall time: 12.8 s\n"
          ],
          "name": "stdout"
        }
      ]
    },
    {
      "metadata": {
        "id": "d_nQ8b37eIUg",
        "colab_type": "code",
        "colab": {}
      },
      "cell_type": "code",
      "source": [
        "df = feather.read_dataframe('/content/drive/My Drive/Colab Notebooks/dataset/period_df.feather')\n",
        "\n",
        "# change date_added to pandas datetime object\n",
        "# since feather cannot read datetime\n",
        "df['date_added'] = pd.to_datetime(df['date_added'])"
      ],
      "execution_count": 0,
      "outputs": []
    },
    {
      "metadata": {
        "id": "_-_5mKIShpgU",
        "colab_type": "code",
        "colab": {}
      },
      "cell_type": "code",
      "source": [
        "# check that none of the entries appear more than the number of days\n",
        "grouped = df.groupby('url').size()\n",
        "grouped.sort_values(ascending=False)[:10]\n",
        "\n",
        "df = df.groupby('url').tail(1)"
      ],
      "execution_count": 0,
      "outputs": []
    },
    {
      "metadata": {
        "id": "EDycM2gfhzcs",
        "colab_type": "code",
        "outputId": "1f4a5be6-5832-4616-a7b9-d360318875ec",
        "colab": {
          "base_uri": "https://localhost:8080/",
          "height": 35
        }
      },
      "cell_type": "code",
      "source": [
        "# count unique ids\n",
        "df['url'].nunique()"
      ],
      "execution_count": 7,
      "outputs": [
        {
          "output_type": "execute_result",
          "data": {
            "text/plain": [
              "165934"
            ]
          },
          "metadata": {
            "tags": []
          },
          "execution_count": 7
        }
      ]
    },
    {
      "metadata": {
        "id": "5PqnBi6ih04C",
        "colab_type": "text"
      },
      "cell_type": "markdown",
      "source": [
        "We only have 165,934 of unique IDs, which correspond to the number of vehicles sold between March and May 2016, close enough to 171,076!"
      ]
    },
    {
      "metadata": {
        "id": "FtRr3s8Khpr0",
        "colab_type": "code",
        "outputId": "5943e845-6e60-4c1b-cb35-f02246df4876",
        "colab": {
          "base_uri": "https://localhost:8080/",
          "height": 207
        }
      },
      "cell_type": "code",
      "source": [
        "# number of vehicles listed each day\n",
        "df['date_added'].value_counts().sort_index()[:10]"
      ],
      "execution_count": 8,
      "outputs": [
        {
          "output_type": "execute_result",
          "data": {
            "text/plain": [
              "2016-03-01    1830\n",
              "2016-03-02    1753\n",
              "2016-03-03    1800\n",
              "2016-03-04    2066\n",
              "2016-03-05    3457\n",
              "2016-03-06    1567\n",
              "2016-03-07    2502\n",
              "2016-03-08     969\n",
              "2016-03-09    1916\n",
              "2016-03-10    1834\n",
              "Name: date_added, dtype: int64"
            ]
          },
          "metadata": {
            "tags": []
          },
          "execution_count": 8
        }
      ]
    },
    {
      "metadata": {
        "id": "xgmy4Pq-h6lv",
        "colab_type": "code",
        "outputId": "a0a71159-a690-4f4b-c12c-e40ee127b3aa",
        "colab": {
          "base_uri": "https://localhost:8080/",
          "height": 35
        }
      },
      "cell_type": "code",
      "source": [
        "tail_df = df.groupby('url').tail(1)\n",
        "sum(tail_df['price'])"
      ],
      "execution_count": 9,
      "outputs": [
        {
          "output_type": "execute_result",
          "data": {
            "text/plain": [
              "3350894231.9599996"
            ]
          },
          "metadata": {
            "tags": []
          },
          "execution_count": 9
        }
      ]
    },
    {
      "metadata": {
        "id": "dRD0VYNjh77v",
        "colab_type": "text"
      },
      "cell_type": "markdown",
      "source": [
        "The total sales from March to May is 3,350,894,231 USD while the 10Q reported 3,428,974 USD."
      ]
    },
    {
      "metadata": {
        "id": "gNYaESLJVXIg",
        "colab_type": "text"
      },
      "cell_type": "markdown",
      "source": [
        "Hypothesis holds fairly well. Let us extend to the whole dataset."
      ]
    },
    {
      "metadata": {
        "id": "L0PhqyafVlJv",
        "colab_type": "code",
        "colab": {}
      },
      "cell_type": "code",
      "source": [
        "df = feather.read_dataframe('/content/drive/My Drive/Colab Notebooks/dataset/kmx_head.feather')\n",
        "\n",
        "# change date_added to pandas datetime object\n",
        "# since feather cannot read datetime\n",
        "df['date_added'] = pd.to_datetime(df['date_added'])"
      ],
      "execution_count": 0,
      "outputs": []
    },
    {
      "metadata": {
        "id": "cm351oj6pwHI",
        "colab_type": "code",
        "outputId": "a8f1fe47-98fb-42ac-e68b-e199d5d32a1d",
        "colab": {
          "base_uri": "https://localhost:8080/",
          "height": 190
        }
      },
      "cell_type": "code",
      "source": [
        "df = df[df['make'].notnull()]\n",
        "df.isnull().sum()"
      ],
      "execution_count": 11,
      "outputs": [
        {
          "output_type": "execute_result",
          "data": {
            "text/plain": [
              "url            0\n",
              "date_added     0\n",
              "price          0\n",
              "year           0\n",
              "make           0\n",
              "model          0\n",
              "mileage        0\n",
              "region         0\n",
              "days_listed    0\n",
              "dtype: int64"
            ]
          },
          "metadata": {
            "tags": []
          },
          "execution_count": 11
        }
      ]
    },
    {
      "metadata": {
        "id": "7K24fNgPr8bH",
        "colab_type": "code",
        "outputId": "ed4364a9-f446-4d8f-c3b2-d26564e5afab",
        "colab": {
          "base_uri": "https://localhost:8080/",
          "height": 198
        }
      },
      "cell_type": "code",
      "source": [
        "df.head()"
      ],
      "execution_count": 12,
      "outputs": [
        {
          "output_type": "execute_result",
          "data": {
            "text/html": [
              "<div>\n",
              "<style scoped>\n",
              "    .dataframe tbody tr th:only-of-type {\n",
              "        vertical-align: middle;\n",
              "    }\n",
              "\n",
              "    .dataframe tbody tr th {\n",
              "        vertical-align: top;\n",
              "    }\n",
              "\n",
              "    .dataframe thead th {\n",
              "        text-align: right;\n",
              "    }\n",
              "</style>\n",
              "<table border=\"1\" class=\"dataframe\">\n",
              "  <thead>\n",
              "    <tr style=\"text-align: right;\">\n",
              "      <th></th>\n",
              "      <th>url</th>\n",
              "      <th>date_added</th>\n",
              "      <th>price</th>\n",
              "      <th>year</th>\n",
              "      <th>make</th>\n",
              "      <th>model</th>\n",
              "      <th>mileage</th>\n",
              "      <th>region</th>\n",
              "      <th>days_listed</th>\n",
              "    </tr>\n",
              "  </thead>\n",
              "  <tbody>\n",
              "    <tr>\n",
              "      <th>0</th>\n",
              "      <td>12346985</td>\n",
              "      <td>2015-10-06</td>\n",
              "      <td>21599.0</td>\n",
              "      <td>2012</td>\n",
              "      <td>Acura</td>\n",
              "      <td>TSX</td>\n",
              "      <td>16000</td>\n",
              "      <td>Columbia, SC</td>\n",
              "      <td>15</td>\n",
              "    </tr>\n",
              "    <tr>\n",
              "      <th>1</th>\n",
              "      <td>12377212</td>\n",
              "      <td>2015-10-06</td>\n",
              "      <td>14599.0</td>\n",
              "      <td>2013</td>\n",
              "      <td>Dodge</td>\n",
              "      <td>Dart SE</td>\n",
              "      <td>18000</td>\n",
              "      <td>Los Angeles, CA</td>\n",
              "      <td>75</td>\n",
              "    </tr>\n",
              "    <tr>\n",
              "      <th>2</th>\n",
              "      <td>12141829</td>\n",
              "      <td>2015-10-06</td>\n",
              "      <td>33998.0</td>\n",
              "      <td>2014</td>\n",
              "      <td>Toyota</td>\n",
              "      <td>FJ Cruiser</td>\n",
              "      <td>18000</td>\n",
              "      <td>Houston, TX</td>\n",
              "      <td>83</td>\n",
              "    </tr>\n",
              "    <tr>\n",
              "      <th>3</th>\n",
              "      <td>12271909</td>\n",
              "      <td>2015-10-06</td>\n",
              "      <td>19599.0</td>\n",
              "      <td>2014</td>\n",
              "      <td>Toyota</td>\n",
              "      <td>Camry SE</td>\n",
              "      <td>5000</td>\n",
              "      <td>Tinley Park, IL</td>\n",
              "      <td>12</td>\n",
              "    </tr>\n",
              "    <tr>\n",
              "      <th>4</th>\n",
              "      <td>11951142</td>\n",
              "      <td>2015-10-06</td>\n",
              "      <td>14998.0</td>\n",
              "      <td>2009</td>\n",
              "      <td>Honda</td>\n",
              "      <td>Accord EX-L</td>\n",
              "      <td>56000</td>\n",
              "      <td>Hillside, IL</td>\n",
              "      <td>35</td>\n",
              "    </tr>\n",
              "  </tbody>\n",
              "</table>\n",
              "</div>"
            ],
            "text/plain": [
              "        url date_added    price  year    make        model  mileage  \\\n",
              "0  12346985 2015-10-06  21599.0  2012   Acura          TSX    16000   \n",
              "1  12377212 2015-10-06  14599.0  2013   Dodge      Dart SE    18000   \n",
              "2  12141829 2015-10-06  33998.0  2014  Toyota   FJ Cruiser    18000   \n",
              "3  12271909 2015-10-06  19599.0  2014  Toyota     Camry SE     5000   \n",
              "4  11951142 2015-10-06  14998.0  2009   Honda  Accord EX-L    56000   \n",
              "\n",
              "            region  days_listed  \n",
              "0     Columbia, SC           15  \n",
              "1  Los Angeles, CA           75  \n",
              "2      Houston, TX           83  \n",
              "3  Tinley Park, IL           12  \n",
              "4     Hillside, IL           35  "
            ]
          },
          "metadata": {
            "tags": []
          },
          "execution_count": 12
        }
      ]
    },
    {
      "metadata": {
        "id": "d19L0mYYel03",
        "colab_type": "text"
      },
      "cell_type": "markdown",
      "source": [
        "It is not known whether the cars listed on the final day were sold, hence, we remove cars that appear on the last day."
      ]
    },
    {
      "metadata": {
        "id": "if_FHLBlfVkh",
        "colab_type": "code",
        "colab": {}
      },
      "cell_type": "code",
      "source": [
        "temp = df['days_listed'].apply(lambda x: pd.Timedelta(x, unit='D'))\n",
        "df['sold_date'] = df['date_added'] + temp\n",
        "\n",
        "df = df[df['sold_date'] < datetime.date(2017,6,15)]"
      ],
      "execution_count": 0,
      "outputs": []
    },
    {
      "metadata": {
        "id": "R5nqGYC6ivrA",
        "colab_type": "text"
      },
      "cell_type": "markdown",
      "source": [
        "The start date of our dataset is 2015-10-06 and end date is 2017-06-14."
      ]
    },
    {
      "metadata": {
        "id": "MG_jCMdOi9P9",
        "colab_type": "code",
        "colab": {}
      },
      "cell_type": "code",
      "source": [
        "START_DATE = datetime.date(2015,10,6)\n",
        "END_DATE = datetime.date(2017,6,14)"
      ],
      "execution_count": 0,
      "outputs": []
    },
    {
      "metadata": {
        "id": "munl6slZimQ7",
        "colab_type": "text"
      },
      "cell_type": "markdown",
      "source": [
        "How many cars are listed for 1 day?"
      ]
    },
    {
      "metadata": {
        "id": "CjMUlLKMgXBz",
        "colab_type": "code",
        "outputId": "75df0334-105c-4066-e286-043f2c85a3db",
        "colab": {
          "base_uri": "https://localhost:8080/",
          "height": 35
        }
      },
      "cell_type": "code",
      "source": [
        "df[df['days_listed'] == 1].shape[0]"
      ],
      "execution_count": 15,
      "outputs": [
        {
          "output_type": "execute_result",
          "data": {
            "text/plain": [
              "52137"
            ]
          },
          "metadata": {
            "tags": []
          },
          "execution_count": 15
        }
      ]
    },
    {
      "metadata": {
        "id": "iOpq3pNZjHvB",
        "colab_type": "text"
      },
      "cell_type": "markdown",
      "source": [
        "## More EDA"
      ]
    },
    {
      "metadata": {
        "id": "57uGQJOmlP2_",
        "colab_type": "code",
        "outputId": "964315fd-db4d-4405-8403-61f7f38256cb",
        "colab": {
          "base_uri": "https://localhost:8080/",
          "height": 207
        }
      },
      "cell_type": "code",
      "source": [
        "df.nunique()"
      ],
      "execution_count": 16,
      "outputs": [
        {
          "output_type": "execute_result",
          "data": {
            "text/plain": [
              "url            1249984\n",
              "date_added         599\n",
              "price             2898\n",
              "year                15\n",
              "make                40\n",
              "model             2552\n",
              "mileage            132\n",
              "region             308\n",
              "days_listed        366\n",
              "sold_date          626\n",
              "dtype: int64"
            ]
          },
          "metadata": {
            "tags": []
          },
          "execution_count": 16
        }
      ]
    },
    {
      "metadata": {
        "id": "PquI05kFliYE",
        "colab_type": "text"
      },
      "cell_type": "markdown",
      "source": [
        "We have 1,250,006 unique entries in our dataset, collected for 599 days across cars sold in 308 regions. "
      ]
    },
    {
      "metadata": {
        "id": "6WWS9In-l3w1",
        "colab_type": "code",
        "outputId": "5da65d9d-0a8d-4842-eec8-43d3538ddc24",
        "colab": {
          "base_uri": "https://localhost:8080/",
          "height": 35
        }
      },
      "cell_type": "code",
      "source": [
        "mean_days_listed = df['days_listed'].mean()\n",
        "median_days_listed = df['days_listed'].median()\n",
        "\n",
        "mean_days_listed, median_days_listed"
      ],
      "execution_count": 17,
      "outputs": [
        {
          "output_type": "execute_result",
          "data": {
            "text/plain": [
              "(25.563672815012033, 17.0)"
            ]
          },
          "metadata": {
            "tags": []
          },
          "execution_count": 17
        }
      ]
    },
    {
      "metadata": {
        "id": "PfJVXKzNmMRE",
        "colab_type": "text"
      },
      "cell_type": "markdown",
      "source": [
        "The average days it takes to sell a car is 26 while the median is 17."
      ]
    },
    {
      "metadata": {
        "id": "sBiLgGAfm2OT",
        "colab_type": "text"
      },
      "cell_type": "markdown",
      "source": [
        "Out of the 40 make, which is the most popular?"
      ]
    },
    {
      "metadata": {
        "id": "kGD1qTAMmzq3",
        "colab_type": "code",
        "outputId": "ffcda018-8efb-47a1-b1b6-56a99002b0f9",
        "colab": {
          "base_uri": "https://localhost:8080/",
          "height": 514
        }
      },
      "cell_type": "code",
      "source": [
        "df_grouped_make = df.groupby('make')\n",
        "make_vs_url = df_grouped_make['url'].agg(lambda x:len(x.unique()))\n",
        "make_vs_url = df_grouped_make['url'].nunique()\n",
        "make_vs_url = make_vs_url.sort_values(ascending=False)\n",
        "\n",
        "plt.figure(figsize=(16,8))\n",
        "sns.barplot(make_vs_url.index, make_vs_url.values,\n",
        "            order=make_vs_url.iloc[:10].index)\n",
        "\n",
        "plt.xlabel('Car Make')\n",
        "plt.ylabel('Number of Cars')\n",
        "plt.title('Number of Cars vs Car Make')\n",
        "plt.show()"
      ],
      "execution_count": 18,
      "outputs": [
        {
          "output_type": "display_data",
          "data": {
            "image/png": "[encoded data removed]",
            "text/plain": [
              "<Figure size 1152x576 with 1 Axes>"
            ]
          },
          "metadata": {
            "tags": []
          }
        }
      ]
    },
    {
      "metadata": {
        "id": "W3MyDOi2na58",
        "colab_type": "text"
      },
      "cell_type": "markdown",
      "source": [
        "Are cheaper cars more popular?"
      ]
    },
    {
      "metadata": {
        "id": "VCSZhvfLmlX_",
        "colab_type": "code",
        "outputId": "b710decd-3394-4ffc-bcd4-4c5c96e972bd",
        "colab": {
          "base_uri": "https://localhost:8080/",
          "height": 514
        }
      },
      "cell_type": "code",
      "source": [
        "cars_bin_df = df\n",
        "\n",
        "cars_bin_df['bucket'] = pd.cut(cars_bin_df['price'], 10)\n",
        "range_bucket_df = cars_bin_df['bucket'].value_counts()\n",
        "cars_bin_df.drop('bucket', axis=1, inplace=True)\n",
        "\n",
        "plt.figure(figsize=(16,8))\n",
        "sns.barplot(range_bucket_df.index, range_bucket_df.values)\n",
        "\n",
        "plt.xlabel('Price Bins')\n",
        "plt.ylabel('Number of Cars')\n",
        "plt.title('Number of Cars vs Price Bins')\n",
        "plt.show()"
      ],
      "execution_count": 19,
      "outputs": [
        {
          "output_type": "display_data",
          "data": {
            "image/png": "[encoded data removed]",
            "text/plain": [
              "<Figure size 1152x576 with 1 Axes>"
            ]
          },
          "metadata": {
            "tags": []
          }
        }
      ]
    },
    {
      "metadata": {
        "id": "ru7u0id1oAbK",
        "colab_type": "code",
        "outputId": "366809c1-86a9-4d24-b79e-58bbcf039bd6",
        "colab": {
          "base_uri": "https://localhost:8080/",
          "height": 207
        }
      },
      "cell_type": "code",
      "source": [
        "range_bucket_df"
      ],
      "execution_count": 20,
      "outputs": [
        {
          "output_type": "execute_result",
          "data": {
            "text/plain": [
              "(10999.8, 21999.6]     791147\n",
              "(21999.6, 32999.4]     313610\n",
              "(32999.4, 43999.2]      69403\n",
              "(-109.998, 10999.8]     58868\n",
              "(43999.2, 54999.0]      12970\n",
              "(54999.0, 65998.8]       2832\n",
              "(65998.8, 76998.6]        872\n",
              "(76998.6, 87998.4]        220\n",
              "(87998.4, 98998.2]         55\n",
              "(98998.2, 109998.0]         7\n",
              "Name: bucket, dtype: int64"
            ]
          },
          "metadata": {
            "tags": []
          },
          "execution_count": 20
        }
      ]
    },
    {
      "metadata": {
        "id": "qCBPeZYzn_w_",
        "colab_type": "text"
      },
      "cell_type": "markdown",
      "source": [
        "Cars having price ranging from 11,000 USD to 33,000 USD are most popular."
      ]
    },
    {
      "metadata": {
        "id": "g531bmmbnjzd",
        "colab_type": "text"
      },
      "cell_type": "markdown",
      "source": [
        "What is the trend for car sales?"
      ]
    },
    {
      "metadata": {
        "id": "hcoCM7qK_5Gh",
        "colab_type": "code",
        "colab": {}
      },
      "cell_type": "code",
      "source": [
        "cars_day_df = df\n",
        "\n",
        "temp = cars_day_df['days_listed'].apply(lambda x: pd.Timedelta(x, unit='D'))\n",
        "cars_day_df['sold_date'] = cars_day_df['date_added'] + temp"
      ],
      "execution_count": 0,
      "outputs": []
    },
    {
      "metadata": {
        "id": "EoxQvARdC4SH",
        "colab_type": "code",
        "outputId": "1e1d9d29-7153-4dcf-ca84-454c622eed79",
        "colab": {
          "base_uri": "https://localhost:8080/",
          "height": 525
        }
      },
      "cell_type": "code",
      "source": [
        "sales_trend = cars_day_df['sold_date'].value_counts().sort_index()\n",
        "\n",
        "plt.figure(figsize=(16,8))\n",
        "sales_trend.plot()\n",
        "\n",
        "plt.xlabel('Days')\n",
        "plt.ylabel('Number of Cars Sold')\n",
        "plt.title('Number of Cars Sold vs Days')\n",
        "plt.show()"
      ],
      "execution_count": 22,
      "outputs": [
        {
          "output_type": "display_data",
          "data": {
            "image/png": "[encoded data removed]",
            "text/plain": [
              "<Figure size 1152x576 with 1 Axes>"
            ]
          },
          "metadata": {
            "tags": []
          }
        }
      ]
    },
    {
      "metadata": {
        "id": "u0RGgGh-C6S6",
        "colab_type": "text"
      },
      "cell_type": "markdown",
      "source": [
        "10,339 cars were sold on 2017-01-24, which is unusual."
      ]
    },
    {
      "metadata": {
        "id": "8YJzxHObArl9",
        "colab_type": "code",
        "outputId": "9bdcf900-81d5-4acc-8bbf-4a8a8e11246d",
        "colab": {
          "base_uri": "https://localhost:8080/",
          "height": 207
        }
      },
      "cell_type": "code",
      "source": [
        "sales_trend.sort_values(ascending=False)[:10]"
      ],
      "execution_count": 23,
      "outputs": [
        {
          "output_type": "execute_result",
          "data": {
            "text/plain": [
              "2017-01-24    10339\n",
              "2017-06-14     6352\n",
              "2017-01-25     6147\n",
              "2017-01-26     5814\n",
              "2017-01-29     5251\n",
              "2017-06-13     4981\n",
              "2017-01-27     4792\n",
              "2017-01-28     4636\n",
              "2017-06-11     4406\n",
              "2017-01-23     4396\n",
              "Name: sold_date, dtype: int64"
            ]
          },
          "metadata": {
            "tags": []
          },
          "execution_count": 23
        }
      ]
    },
    {
      "metadata": {
        "id": "jwIO07zt_8sf",
        "colab_type": "text"
      },
      "cell_type": "markdown",
      "source": [
        "Assuming the last day a car is listed is the day it is sold, which day has the best sales?"
      ]
    },
    {
      "metadata": {
        "id": "37evgrEfmK_-",
        "colab_type": "code",
        "outputId": "d9131f0b-5e20-478c-ebac-7878c4f027c2",
        "colab": {
          "base_uri": "https://localhost:8080/",
          "height": 514
        }
      },
      "cell_type": "code",
      "source": [
        "cars_day_df['weekday'] = cars_day_df['sold_date'].apply(lambda x: x.weekday())\n",
        "\n",
        "days_dict = {0: 'Mon', 1: 'Tue', 2: 'Wed',\n",
        "             3: 'Thu', 4: 'Fri', 5: 'Sat',\n",
        "             6: 'Sun'}\n",
        "\n",
        "tmp_df = cars_day_df['weekday'].apply(lambda x: days_dict[x]).value_counts()\n",
        "\n",
        "plt.figure(figsize=(16,8))\n",
        "sns.barplot(tmp_df.index, \n",
        "            tmp_df.values)\n",
        "\n",
        "plt.xlabel('Day of the Week')\n",
        "plt.ylabel('Number of Cars')\n",
        "plt.title('Number of Cars vs Day of the Week')\n",
        "plt.show()\n",
        "\n",
        "del cars_day_df, tmp_df"
      ],
      "execution_count": 24,
      "outputs": [
        {
          "output_type": "display_data",
          "data": {
            "image/png": "[encoded data removed]",
            "text/plain": [
              "<Figure size 1152x576 with 1 Axes>"
            ]
          },
          "metadata": {
            "tags": []
          }
        }
      ]
    },
    {
      "metadata": {
        "id": "y2JVwJQmp6HY",
        "colab_type": "text"
      },
      "cell_type": "markdown",
      "source": [
        "Most cars were sold on Sunday."
      ]
    },
    {
      "metadata": {
        "id": "5uJvUEEUoV2j",
        "colab_type": "text"
      },
      "cell_type": "markdown",
      "source": [
        "Which region has the best sales?"
      ]
    },
    {
      "metadata": {
        "id": "JrkheuQ1oWAF",
        "colab_type": "code",
        "outputId": "1811aa56-7015-4ffd-9e11-ae9dc9bf8ac9",
        "colab": {
          "base_uri": "https://localhost:8080/",
          "height": 207
        }
      },
      "cell_type": "code",
      "source": [
        "cars_bin_df['region'].value_counts()[:10]"
      ],
      "execution_count": 25,
      "outputs": [
        {
          "output_type": "execute_result",
          "data": {
            "text/plain": [
              "Norcross                  22334\n",
              "Ontario                   18291\n",
              "Texas Stadium (Irving)    17117\n",
              "Fredericksburg            17016\n",
              "Columbia                  17002\n",
              "Lancaster                 16759\n",
              "Hartford                  16264\n",
              "Austin North              15748\n",
              "Arlington/Ft. Worth       14999\n",
              "Oxnard                    14865\n",
              "Name: region, dtype: int64"
            ]
          },
          "metadata": {
            "tags": []
          },
          "execution_count": 25
        }
      ]
    },
    {
      "metadata": {
        "id": "Mb3WuPNoobIE",
        "colab_type": "text"
      },
      "cell_type": "markdown",
      "source": [
        "Norcross seems to have the best sales, followed by Ontario"
      ]
    },
    {
      "metadata": {
        "id": "Wq2QuoNKnNB-",
        "colab_type": "text"
      },
      "cell_type": "markdown",
      "source": [
        "## Feature Engineering"
      ]
    },
    {
      "metadata": {
        "id": "ziD-iZBp-KHT",
        "colab_type": "code",
        "colab": {}
      },
      "cell_type": "code",
      "source": [
        "df = df.drop(828364)\n",
        "df['price_per_mile'] = df['price']/df['mileage']\n",
        "df['price_per_mile'].replace(np.inf, 999, inplace=True)\n",
        "\n",
        "# # can we group regions?\n",
        "# df['code'] = df['region'].str.split(', ').str[1]\n",
        "# df.drop('code', axis=1, inplace=True)\n",
        "\n",
        "df['age'] = df['date_added'].dt.year - df['year'] + 1\n",
        "df.drop('year', axis=1, inplace=True)"
      ],
      "execution_count": 0,
      "outputs": []
    },
    {
      "metadata": {
        "id": "mslU-Iz8I2Pi",
        "colab_type": "code",
        "outputId": "432ed714-1101-4fb3-ed02-a2543e30b598",
        "colab": {
          "base_uri": "https://localhost:8080/",
          "height": 233
        }
      },
      "cell_type": "code",
      "source": [
        "df.head()"
      ],
      "execution_count": 27,
      "outputs": [
        {
          "output_type": "execute_result",
          "data": {
            "text/html": [
              "<div>\n",
              "<style scoped>\n",
              "    .dataframe tbody tr th:only-of-type {\n",
              "        vertical-align: middle;\n",
              "    }\n",
              "\n",
              "    .dataframe tbody tr th {\n",
              "        vertical-align: top;\n",
              "    }\n",
              "\n",
              "    .dataframe thead th {\n",
              "        text-align: right;\n",
              "    }\n",
              "</style>\n",
              "<table border=\"1\" class=\"dataframe\">\n",
              "  <thead>\n",
              "    <tr style=\"text-align: right;\">\n",
              "      <th></th>\n",
              "      <th>url</th>\n",
              "      <th>date_added</th>\n",
              "      <th>price</th>\n",
              "      <th>make</th>\n",
              "      <th>model</th>\n",
              "      <th>mileage</th>\n",
              "      <th>region</th>\n",
              "      <th>days_listed</th>\n",
              "      <th>sold_date</th>\n",
              "      <th>weekday</th>\n",
              "      <th>price_per_mile</th>\n",
              "      <th>age</th>\n",
              "    </tr>\n",
              "  </thead>\n",
              "  <tbody>\n",
              "    <tr>\n",
              "      <th>0</th>\n",
              "      <td>12346985</td>\n",
              "      <td>2015-10-06</td>\n",
              "      <td>21599.0</td>\n",
              "      <td>Acura</td>\n",
              "      <td>TSX</td>\n",
              "      <td>16000</td>\n",
              "      <td>Columbia, SC</td>\n",
              "      <td>15</td>\n",
              "      <td>2015-10-21</td>\n",
              "      <td>2</td>\n",
              "      <td>1.349938</td>\n",
              "      <td>4</td>\n",
              "    </tr>\n",
              "    <tr>\n",
              "      <th>1</th>\n",
              "      <td>12377212</td>\n",
              "      <td>2015-10-06</td>\n",
              "      <td>14599.0</td>\n",
              "      <td>Dodge</td>\n",
              "      <td>Dart SE</td>\n",
              "      <td>18000</td>\n",
              "      <td>Los Angeles, CA</td>\n",
              "      <td>75</td>\n",
              "      <td>2015-12-20</td>\n",
              "      <td>6</td>\n",
              "      <td>0.811056</td>\n",
              "      <td>3</td>\n",
              "    </tr>\n",
              "    <tr>\n",
              "      <th>2</th>\n",
              "      <td>12141829</td>\n",
              "      <td>2015-10-06</td>\n",
              "      <td>33998.0</td>\n",
              "      <td>Toyota</td>\n",
              "      <td>FJ Cruiser</td>\n",
              "      <td>18000</td>\n",
              "      <td>Houston, TX</td>\n",
              "      <td>83</td>\n",
              "      <td>2015-12-28</td>\n",
              "      <td>0</td>\n",
              "      <td>1.888778</td>\n",
              "      <td>2</td>\n",
              "    </tr>\n",
              "    <tr>\n",
              "      <th>3</th>\n",
              "      <td>12271909</td>\n",
              "      <td>2015-10-06</td>\n",
              "      <td>19599.0</td>\n",
              "      <td>Toyota</td>\n",
              "      <td>Camry SE</td>\n",
              "      <td>5000</td>\n",
              "      <td>Tinley Park, IL</td>\n",
              "      <td>12</td>\n",
              "      <td>2015-10-18</td>\n",
              "      <td>6</td>\n",
              "      <td>3.919800</td>\n",
              "      <td>2</td>\n",
              "    </tr>\n",
              "    <tr>\n",
              "      <th>4</th>\n",
              "      <td>11951142</td>\n",
              "      <td>2015-10-06</td>\n",
              "      <td>14998.0</td>\n",
              "      <td>Honda</td>\n",
              "      <td>Accord EX-L</td>\n",
              "      <td>56000</td>\n",
              "      <td>Hillside, IL</td>\n",
              "      <td>35</td>\n",
              "      <td>2015-11-10</td>\n",
              "      <td>1</td>\n",
              "      <td>0.267821</td>\n",
              "      <td>7</td>\n",
              "    </tr>\n",
              "  </tbody>\n",
              "</table>\n",
              "</div>"
            ],
            "text/plain": [
              "        url date_added    price    make        model  mileage  \\\n",
              "0  12346985 2015-10-06  21599.0   Acura          TSX    16000   \n",
              "1  12377212 2015-10-06  14599.0   Dodge      Dart SE    18000   \n",
              "2  12141829 2015-10-06  33998.0  Toyota   FJ Cruiser    18000   \n",
              "3  12271909 2015-10-06  19599.0  Toyota     Camry SE     5000   \n",
              "4  11951142 2015-10-06  14998.0   Honda  Accord EX-L    56000   \n",
              "\n",
              "            region  days_listed  sold_date  weekday  price_per_mile  age  \n",
              "0     Columbia, SC           15 2015-10-21        2        1.349938    4  \n",
              "1  Los Angeles, CA           75 2015-12-20        6        0.811056    3  \n",
              "2      Houston, TX           83 2015-12-28        0        1.888778    2  \n",
              "3  Tinley Park, IL           12 2015-10-18        6        3.919800    2  \n",
              "4     Hillside, IL           35 2015-11-10        1        0.267821    7  "
            ]
          },
          "metadata": {
            "tags": []
          },
          "execution_count": 27
        }
      ]
    },
    {
      "metadata": {
        "id": "CnGB1d0ejQJP",
        "colab_type": "text"
      },
      "cell_type": "markdown",
      "source": [
        "## Can we build a model to predict how long does it take to sell a car?\n",
        "\n",
        "---\n",
        "\n",
        "Let us split our dataset in terms of time, having training data from 12/2015 to 08/2016 and test data from 9/2016 to 11/2016. These dates align with CarMax's 10-Q. We then try to estimate the sales for our test data."
      ]
    },
    {
      "metadata": {
        "id": "5Z_KlRqdKV99",
        "colab_type": "code",
        "colab": {}
      },
      "cell_type": "code",
      "source": [
        "TRAIN_START_DATE = datetime.date(2015,12,1) # 10-Q ended 11/2015\n",
        "TRAIN_END_DATE = datetime.date(2016,8,31) # 10-Q ended 8/2015\n",
        "\n",
        "TEST_START_DATE = datetime.date(2016,9,1)\n",
        "TEST_END_DATE = datetime.date(2016,11,30)"
      ],
      "execution_count": 0,
      "outputs": []
    },
    {
      "metadata": {
        "id": "wBVtmr9mhf86",
        "colab_type": "code",
        "colab": {}
      },
      "cell_type": "code",
      "source": [
        "train_df = df[(df['sold_date'] >= TRAIN_START_DATE) &\n",
        "              (df['sold_date'] <= TRAIN_END_DATE)]\n",
        "\n",
        "test_df = df[(df['sold_date'] >= TEST_START_DATE) &\n",
        "             (df['sold_date'] <= TEST_END_DATE)]\n",
        "\n",
        "train_df.drop(['sold_date'], axis=1, inplace=True)\n",
        "test_df.drop(['sold_date'], axis=1, inplace=True)\n",
        "\n",
        "train_df.to_pickle(f\"{PATH}/clean_train.pkl\")\n",
        "test_df.to_pickle(f\"{PATH}/clean_test.pkl\")"
      ],
      "execution_count": 0,
      "outputs": []
    },
    {
      "metadata": {
        "id": "T0SwRf__k-XM",
        "colab_type": "code",
        "colab": {}
      },
      "cell_type": "code",
      "source": [
        "from fastai.tabular import *\n",
        "\n",
        "import pandas as pd\n",
        "import seaborn as sns\n",
        "import matplotlib.pyplot as plt\n",
        "import numpy as np\n",
        "import datetime\n",
        "import feather\n",
        "\n",
        "import warnings\n",
        "warnings.simplefilter(action='ignore')\n",
        "\n",
        "PATH='/content/drive/My Drive/Colab Notebooks/'\n",
        "\n",
        "%matplotlib inline\n",
        "\n",
        "train_df = pd.read_pickle(f\"{PATH}clean_train.pkl\")\n",
        "test_df = pd.read_pickle(f\"{PATH}clean_test.pkl\")"
      ],
      "execution_count": 0,
      "outputs": []
    },
    {
      "metadata": {
        "id": "kSuRLmIdeKCI",
        "colab_type": "code",
        "outputId": "a0611029-525a-47e2-cf23-45f7ca885bac",
        "colab": {
          "base_uri": "https://localhost:8080/",
          "height": 198
        }
      },
      "cell_type": "code",
      "source": [
        "train_df.shape[0], test_df.shape[0]\n",
        "train_df.head()"
      ],
      "execution_count": 31,
      "outputs": [
        {
          "output_type": "execute_result",
          "data": {
            "text/html": [
              "<div>\n",
              "<style scoped>\n",
              "    .dataframe tbody tr th:only-of-type {\n",
              "        vertical-align: middle;\n",
              "    }\n",
              "\n",
              "    .dataframe tbody tr th {\n",
              "        vertical-align: top;\n",
              "    }\n",
              "\n",
              "    .dataframe thead th {\n",
              "        text-align: right;\n",
              "    }\n",
              "</style>\n",
              "<table border=\"1\" class=\"dataframe\">\n",
              "  <thead>\n",
              "    <tr style=\"text-align: right;\">\n",
              "      <th></th>\n",
              "      <th>url</th>\n",
              "      <th>date_added</th>\n",
              "      <th>price</th>\n",
              "      <th>make</th>\n",
              "      <th>model</th>\n",
              "      <th>mileage</th>\n",
              "      <th>region</th>\n",
              "      <th>days_listed</th>\n",
              "      <th>weekday</th>\n",
              "      <th>price_per_mile</th>\n",
              "      <th>age</th>\n",
              "    </tr>\n",
              "  </thead>\n",
              "  <tbody>\n",
              "    <tr>\n",
              "      <th>1</th>\n",
              "      <td>12377212</td>\n",
              "      <td>2015-10-06</td>\n",
              "      <td>14599.0</td>\n",
              "      <td>Dodge</td>\n",
              "      <td>Dart SE</td>\n",
              "      <td>18000</td>\n",
              "      <td>Los Angeles, CA</td>\n",
              "      <td>75</td>\n",
              "      <td>6</td>\n",
              "      <td>0.811056</td>\n",
              "      <td>3</td>\n",
              "    </tr>\n",
              "    <tr>\n",
              "      <th>2</th>\n",
              "      <td>12141829</td>\n",
              "      <td>2015-10-06</td>\n",
              "      <td>33998.0</td>\n",
              "      <td>Toyota</td>\n",
              "      <td>FJ Cruiser</td>\n",
              "      <td>18000</td>\n",
              "      <td>Houston, TX</td>\n",
              "      <td>83</td>\n",
              "      <td>0</td>\n",
              "      <td>1.888778</td>\n",
              "      <td>2</td>\n",
              "    </tr>\n",
              "    <tr>\n",
              "      <th>7</th>\n",
              "      <td>11804450</td>\n",
              "      <td>2015-10-06</td>\n",
              "      <td>13599.0</td>\n",
              "      <td>Kia</td>\n",
              "      <td>Rio LX</td>\n",
              "      <td>11000</td>\n",
              "      <td>Augusta, GA</td>\n",
              "      <td>56</td>\n",
              "      <td>1</td>\n",
              "      <td>1.236273</td>\n",
              "      <td>1</td>\n",
              "    </tr>\n",
              "    <tr>\n",
              "      <th>10</th>\n",
              "      <td>12150992</td>\n",
              "      <td>2015-10-06</td>\n",
              "      <td>29998.0</td>\n",
              "      <td>Ford</td>\n",
              "      <td>Flex Limited</td>\n",
              "      <td>15000</td>\n",
              "      <td>Austin, TX</td>\n",
              "      <td>80</td>\n",
              "      <td>4</td>\n",
              "      <td>1.999867</td>\n",
              "      <td>2</td>\n",
              "    </tr>\n",
              "    <tr>\n",
              "      <th>15</th>\n",
              "      <td>12444872</td>\n",
              "      <td>2015-10-06</td>\n",
              "      <td>15998.0</td>\n",
              "      <td>Dodge</td>\n",
              "      <td>Dart Rallye</td>\n",
              "      <td>17000</td>\n",
              "      <td>Lancaster, PA</td>\n",
              "      <td>102</td>\n",
              "      <td>5</td>\n",
              "      <td>0.941059</td>\n",
              "      <td>3</td>\n",
              "    </tr>\n",
              "  </tbody>\n",
              "</table>\n",
              "</div>"
            ],
            "text/plain": [
              "         url date_added    price    make         model  mileage  \\\n",
              "1   12377212 2015-10-06  14599.0   Dodge       Dart SE    18000   \n",
              "2   12141829 2015-10-06  33998.0  Toyota    FJ Cruiser    18000   \n",
              "7   11804450 2015-10-06  13599.0     Kia        Rio LX    11000   \n",
              "10  12150992 2015-10-06  29998.0    Ford  Flex Limited    15000   \n",
              "15  12444872 2015-10-06  15998.0   Dodge   Dart Rallye    17000   \n",
              "\n",
              "             region  days_listed  weekday  price_per_mile  age  \n",
              "1   Los Angeles, CA           75        6        0.811056    3  \n",
              "2       Houston, TX           83        0        1.888778    2  \n",
              "7       Augusta, GA           56        1        1.236273    1  \n",
              "10       Austin, TX           80        4        1.999867    2  \n",
              "15    Lancaster, PA          102        5        0.941059    3  "
            ]
          },
          "metadata": {
            "tags": []
          },
          "execution_count": 31
        }
      ]
    },
    {
      "metadata": {
        "id": "dG_frFwVQytN",
        "colab_type": "code",
        "colab": {}
      },
      "cell_type": "code",
      "source": [
        "procs=[FillMissing, Categorify, Normalize]\n",
        "\n",
        "cat_var = ['make', 'model', 'region', 'age']\n",
        "\n",
        "con_var = ['price', 'mileage', 'price_per_mile']"
      ],
      "execution_count": 0,
      "outputs": []
    },
    {
      "metadata": {
        "id": "a0Oa1Iq6QwWc",
        "colab_type": "code",
        "outputId": "a9209e2b-114d-4025-c2d2-47c9bf580016",
        "colab": {
          "base_uri": "https://localhost:8080/",
          "height": 198
        }
      },
      "cell_type": "code",
      "source": [
        "y = 'days_listed'\n",
        "\n",
        "# reorder for train_df\n",
        "df = train_df[cat_var + con_var + [y, 'date_added']].copy()\n",
        "df.head()"
      ],
      "execution_count": 33,
      "outputs": [
        {
          "output_type": "execute_result",
          "data": {
            "text/html": [
              "<div>\n",
              "<style scoped>\n",
              "    .dataframe tbody tr th:only-of-type {\n",
              "        vertical-align: middle;\n",
              "    }\n",
              "\n",
              "    .dataframe tbody tr th {\n",
              "        vertical-align: top;\n",
              "    }\n",
              "\n",
              "    .dataframe thead th {\n",
              "        text-align: right;\n",
              "    }\n",
              "</style>\n",
              "<table border=\"1\" class=\"dataframe\">\n",
              "  <thead>\n",
              "    <tr style=\"text-align: right;\">\n",
              "      <th></th>\n",
              "      <th>make</th>\n",
              "      <th>model</th>\n",
              "      <th>region</th>\n",
              "      <th>age</th>\n",
              "      <th>price</th>\n",
              "      <th>mileage</th>\n",
              "      <th>price_per_mile</th>\n",
              "      <th>days_listed</th>\n",
              "      <th>date_added</th>\n",
              "    </tr>\n",
              "  </thead>\n",
              "  <tbody>\n",
              "    <tr>\n",
              "      <th>1</th>\n",
              "      <td>Dodge</td>\n",
              "      <td>Dart SE</td>\n",
              "      <td>Los Angeles, CA</td>\n",
              "      <td>3</td>\n",
              "      <td>14599.0</td>\n",
              "      <td>18000</td>\n",
              "      <td>0.811056</td>\n",
              "      <td>75</td>\n",
              "      <td>2015-10-06</td>\n",
              "    </tr>\n",
              "    <tr>\n",
              "      <th>2</th>\n",
              "      <td>Toyota</td>\n",
              "      <td>FJ Cruiser</td>\n",
              "      <td>Houston, TX</td>\n",
              "      <td>2</td>\n",
              "      <td>33998.0</td>\n",
              "      <td>18000</td>\n",
              "      <td>1.888778</td>\n",
              "      <td>83</td>\n",
              "      <td>2015-10-06</td>\n",
              "    </tr>\n",
              "    <tr>\n",
              "      <th>7</th>\n",
              "      <td>Kia</td>\n",
              "      <td>Rio LX</td>\n",
              "      <td>Augusta, GA</td>\n",
              "      <td>1</td>\n",
              "      <td>13599.0</td>\n",
              "      <td>11000</td>\n",
              "      <td>1.236273</td>\n",
              "      <td>56</td>\n",
              "      <td>2015-10-06</td>\n",
              "    </tr>\n",
              "    <tr>\n",
              "      <th>10</th>\n",
              "      <td>Ford</td>\n",
              "      <td>Flex Limited</td>\n",
              "      <td>Austin, TX</td>\n",
              "      <td>2</td>\n",
              "      <td>29998.0</td>\n",
              "      <td>15000</td>\n",
              "      <td>1.999867</td>\n",
              "      <td>80</td>\n",
              "      <td>2015-10-06</td>\n",
              "    </tr>\n",
              "    <tr>\n",
              "      <th>15</th>\n",
              "      <td>Dodge</td>\n",
              "      <td>Dart Rallye</td>\n",
              "      <td>Lancaster, PA</td>\n",
              "      <td>3</td>\n",
              "      <td>15998.0</td>\n",
              "      <td>17000</td>\n",
              "      <td>0.941059</td>\n",
              "      <td>102</td>\n",
              "      <td>2015-10-06</td>\n",
              "    </tr>\n",
              "  </tbody>\n",
              "</table>\n",
              "</div>"
            ],
            "text/plain": [
              "      make         model           region  age    price  mileage  \\\n",
              "1    Dodge       Dart SE  Los Angeles, CA    3  14599.0    18000   \n",
              "2   Toyota    FJ Cruiser      Houston, TX    2  33998.0    18000   \n",
              "7      Kia        Rio LX      Augusta, GA    1  13599.0    11000   \n",
              "10    Ford  Flex Limited       Austin, TX    2  29998.0    15000   \n",
              "15   Dodge   Dart Rallye    Lancaster, PA    3  15998.0    17000   \n",
              "\n",
              "    price_per_mile  days_listed date_added  \n",
              "1         0.811056           75 2015-10-06  \n",
              "2         1.888778           83 2015-10-06  \n",
              "7         1.236273           56 2015-10-06  \n",
              "10        1.999867           80 2015-10-06  \n",
              "15        0.941059          102 2015-10-06  "
            ]
          },
          "metadata": {
            "tags": []
          },
          "execution_count": 33
        }
      ]
    },
    {
      "metadata": {
        "id": "p5_G7k_VnfP0",
        "colab_type": "code",
        "outputId": "4e4fd30c-1fae-4e2b-d5d2-9f9fb22c029d",
        "colab": {
          "base_uri": "https://localhost:8080/",
          "height": 198
        }
      },
      "cell_type": "code",
      "source": [
        "test_df = test_df[cat_var + con_var + [y, 'date_added', 'url']].copy()\n",
        "\n",
        "actual_days_listed = test_df['days_listed']\n",
        "test_df.drop('days_listed', axis=1, inplace=True)\n",
        "\n",
        "test_df.head()"
      ],
      "execution_count": 34,
      "outputs": [
        {
          "output_type": "execute_result",
          "data": {
            "text/html": [
              "<div>\n",
              "<style scoped>\n",
              "    .dataframe tbody tr th:only-of-type {\n",
              "        vertical-align: middle;\n",
              "    }\n",
              "\n",
              "    .dataframe tbody tr th {\n",
              "        vertical-align: top;\n",
              "    }\n",
              "\n",
              "    .dataframe thead th {\n",
              "        text-align: right;\n",
              "    }\n",
              "</style>\n",
              "<table border=\"1\" class=\"dataframe\">\n",
              "  <thead>\n",
              "    <tr style=\"text-align: right;\">\n",
              "      <th></th>\n",
              "      <th>make</th>\n",
              "      <th>model</th>\n",
              "      <th>region</th>\n",
              "      <th>age</th>\n",
              "      <th>price</th>\n",
              "      <th>mileage</th>\n",
              "      <th>price_per_mile</th>\n",
              "      <th>date_added</th>\n",
              "      <th>url</th>\n",
              "    </tr>\n",
              "  </thead>\n",
              "  <tbody>\n",
              "    <tr>\n",
              "      <th>148</th>\n",
              "      <td>Nissan</td>\n",
              "      <td>Murano</td>\n",
              "      <td>Austin South</td>\n",
              "      <td>10</td>\n",
              "      <td>15599.0</td>\n",
              "      <td>55000</td>\n",
              "      <td>0.283618</td>\n",
              "      <td>2016-03-07</td>\n",
              "      <td>12264269</td>\n",
              "    </tr>\n",
              "    <tr>\n",
              "      <th>3371</th>\n",
              "      <td>Kia</td>\n",
              "      <td>Optima EX</td>\n",
              "      <td>Lynchburg, VA</td>\n",
              "      <td>2</td>\n",
              "      <td>18998.0</td>\n",
              "      <td>20000</td>\n",
              "      <td>0.949900</td>\n",
              "      <td>2015-10-14</td>\n",
              "      <td>11781859</td>\n",
              "    </tr>\n",
              "    <tr>\n",
              "      <th>4343</th>\n",
              "      <td>Kia</td>\n",
              "      <td>Optima Hybrid LX</td>\n",
              "      <td>Milwaukee, WI</td>\n",
              "      <td>2</td>\n",
              "      <td>17998.0</td>\n",
              "      <td>27000</td>\n",
              "      <td>0.666593</td>\n",
              "      <td>2015-10-14</td>\n",
              "      <td>12157847</td>\n",
              "    </tr>\n",
              "    <tr>\n",
              "      <th>5350</th>\n",
              "      <td>Toyota</td>\n",
              "      <td>Venza</td>\n",
              "      <td>Omaha, NE</td>\n",
              "      <td>7</td>\n",
              "      <td>16998.0</td>\n",
              "      <td>59000</td>\n",
              "      <td>0.288102</td>\n",
              "      <td>2015-10-14</td>\n",
              "      <td>11842824</td>\n",
              "    </tr>\n",
              "    <tr>\n",
              "      <th>8409</th>\n",
              "      <td>Nissan</td>\n",
              "      <td>Maxima</td>\n",
              "      <td>Ft. Lauderdale</td>\n",
              "      <td>7</td>\n",
              "      <td>17998.0</td>\n",
              "      <td>53000</td>\n",
              "      <td>0.339585</td>\n",
              "      <td>2016-03-06</td>\n",
              "      <td>12068270</td>\n",
              "    </tr>\n",
              "  </tbody>\n",
              "</table>\n",
              "</div>"
            ],
            "text/plain": [
              "        make             model          region  age    price  mileage  \\\n",
              "148   Nissan            Murano    Austin South   10  15599.0    55000   \n",
              "3371     Kia         Optima EX   Lynchburg, VA    2  18998.0    20000   \n",
              "4343     Kia  Optima Hybrid LX   Milwaukee, WI    2  17998.0    27000   \n",
              "5350  Toyota             Venza       Omaha, NE    7  16998.0    59000   \n",
              "8409  Nissan            Maxima  Ft. Lauderdale    7  17998.0    53000   \n",
              "\n",
              "      price_per_mile date_added       url  \n",
              "148         0.283618 2016-03-07  12264269  \n",
              "3371        0.949900 2015-10-14  11781859  \n",
              "4343        0.666593 2015-10-14  12157847  \n",
              "5350        0.288102 2015-10-14  11842824  \n",
              "8409        0.339585 2016-03-06  12068270  "
            ]
          },
          "metadata": {
            "tags": []
          },
          "execution_count": 34
        }
      ]
    },
    {
      "metadata": {
        "id": "bgclit6NQ-pE",
        "colab_type": "code",
        "outputId": "e11ffb08-fc3a-4e49-b71b-7908c54ffd21",
        "colab": {
          "base_uri": "https://localhost:8080/",
          "height": 35
        }
      },
      "cell_type": "code",
      "source": [
        "test_df['date_added'].min(), test_df['date_added'].max()"
      ],
      "execution_count": 35,
      "outputs": [
        {
          "output_type": "execute_result",
          "data": {
            "text/plain": [
              "(Timestamp('2015-09-27 00:00:00'), Timestamp('2016-11-29 00:00:00'))"
            ]
          },
          "metadata": {
            "tags": []
          },
          "execution_count": 35
        }
      ]
    },
    {
      "metadata": {
        "id": "OuKtpXFtRFbj",
        "colab_type": "code",
        "colab": {}
      },
      "cell_type": "code",
      "source": [
        "cut = train_df['date_added'][(train_df['date_added'] == train_df['date_added'][len(test_df) - 10])].index.max()"
      ],
      "execution_count": 0,
      "outputs": []
    },
    {
      "metadata": {
        "id": "UFmfFbsdRVhF",
        "colab_type": "code",
        "colab": {}
      },
      "cell_type": "code",
      "source": [
        "valid_idx = range(cut)"
      ],
      "execution_count": 0,
      "outputs": []
    },
    {
      "metadata": {
        "id": "47FpjCviRX_T",
        "colab_type": "code",
        "outputId": "c70bf590-098f-43d4-e67a-5e1ada450cab",
        "colab": {
          "base_uri": "https://localhost:8080/",
          "height": 121
        }
      },
      "cell_type": "code",
      "source": [
        "df[y].head()"
      ],
      "execution_count": 38,
      "outputs": [
        {
          "output_type": "execute_result",
          "data": {
            "text/plain": [
              "1      75\n",
              "2      83\n",
              "7      56\n",
              "10     80\n",
              "15    102\n",
              "Name: days_listed, dtype: int64"
            ]
          },
          "metadata": {
            "tags": []
          },
          "execution_count": 38
        }
      ]
    },
    {
      "metadata": {
        "id": "MIlluuM7RfUp",
        "colab_type": "code",
        "colab": {}
      },
      "cell_type": "code",
      "source": [
        "data = (TabularList.from_df(df, \n",
        "                            path=PATH, \n",
        "                            cat_names=cat_var, \n",
        "                            cont_names=con_var, \n",
        "                            procs=procs)\n",
        "                   .split_by_idx(valid_idx)\n",
        "                   .label_from_df(cols=y, label_cls=FloatList)\n",
        "                   .add_test(ItemList.from_df(test_df,\n",
        "                                              PATH))\n",
        "                   .databunch())"
      ],
      "execution_count": 0,
      "outputs": []
    },
    {
      "metadata": {
        "id": "8IZRFvryR1tI",
        "colab_type": "text"
      },
      "cell_type": "markdown",
      "source": [
        "## Model"
      ]
    },
    {
      "metadata": {
        "id": "PQILeuVqR3FV",
        "colab_type": "code",
        "colab": {}
      },
      "cell_type": "code",
      "source": [
        "max_log_y = np.max(train_df[y])*1.2\n",
        "y_range = torch.tensor([0, max_log_y], device=defaults.device)"
      ],
      "execution_count": 0,
      "outputs": []
    },
    {
      "metadata": {
        "id": "kFC0v06KBmef",
        "colab_type": "code",
        "outputId": "fb44e90e-3337-4055-bb51-c870b5573b9a",
        "colab": {
          "base_uri": "https://localhost:8080/",
          "height": 35
        }
      },
      "cell_type": "code",
      "source": [
        "y_range"
      ],
      "execution_count": 41,
      "outputs": [
        {
          "output_type": "execute_result",
          "data": {
            "text/plain": [
              "tensor([  0.0000, 385.2000], device='cuda:0')"
            ]
          },
          "metadata": {
            "tags": []
          },
          "execution_count": 41
        }
      ]
    },
    {
      "metadata": {
        "id": "WPeRjaK9SZRe",
        "colab_type": "code",
        "colab": {}
      },
      "cell_type": "code",
      "source": [
        "learn = tabular_learner(data, layers=[1000,500], \n",
        "                        ps=[0.001,0.01], \n",
        "                        emb_drop=0.04, \n",
        "                        y_range=y_range, \n",
        "                        metrics=mse)"
      ],
      "execution_count": 0,
      "outputs": []
    },
    {
      "metadata": {
        "id": "l_jn_ENPSb3u",
        "colab_type": "code",
        "outputId": "fec0e7a1-e4b2-49d3-a069-b4a1e89b3fde",
        "colab": {
          "base_uri": "https://localhost:8080/",
          "height": 380
        }
      },
      "cell_type": "code",
      "source": [
        "learn.model"
      ],
      "execution_count": 43,
      "outputs": [
        {
          "output_type": "execute_result",
          "data": {
            "text/plain": [
              "TabularModel(\n",
              "  (embeds): ModuleList(\n",
              "    (0): Embedding(41, 13)\n",
              "    (1): Embedding(2586, 130)\n",
              "    (2): Embedding(311, 40)\n",
              "    (3): Embedding(15, 7)\n",
              "  )\n",
              "  (emb_drop): Dropout(p=0.04)\n",
              "  (bn_cont): BatchNorm1d(3, eps=1e-05, momentum=0.1, affine=True, track_running_stats=True)\n",
              "  (layers): Sequential(\n",
              "    (0): Linear(in_features=193, out_features=1000, bias=True)\n",
              "    (1): ReLU(inplace)\n",
              "    (2): BatchNorm1d(1000, eps=1e-05, momentum=0.1, affine=True, track_running_stats=True)\n",
              "    (3): Dropout(p=0.001)\n",
              "    (4): Linear(in_features=1000, out_features=500, bias=True)\n",
              "    (5): ReLU(inplace)\n",
              "    (6): BatchNorm1d(500, eps=1e-05, momentum=0.1, affine=True, track_running_stats=True)\n",
              "    (7): Dropout(p=0.01)\n",
              "    (8): Linear(in_features=500, out_features=1, bias=True)\n",
              "  )\n",
              ")"
            ]
          },
          "metadata": {
            "tags": []
          },
          "execution_count": 43
        }
      ]
    },
    {
      "metadata": {
        "id": "rFSnuQeMSfs_",
        "colab_type": "code",
        "outputId": "c74fa494-086a-463f-d569-6d883be9caef",
        "colab": {
          "base_uri": "https://localhost:8080/",
          "height": 35
        }
      },
      "cell_type": "code",
      "source": [
        "len(data.train_ds.cont_names)"
      ],
      "execution_count": 44,
      "outputs": [
        {
          "output_type": "execute_result",
          "data": {
            "text/plain": [
              "3"
            ]
          },
          "metadata": {
            "tags": []
          },
          "execution_count": 44
        }
      ]
    },
    {
      "metadata": {
        "id": "gs7Y56tRSiEF",
        "colab_type": "code",
        "outputId": "d6863ee7-60d1-4794-8c66-3cfdcde314df",
        "colab": {
          "base_uri": "https://localhost:8080/",
          "height": 35
        }
      },
      "cell_type": "code",
      "source": [
        "learn.lr_find()"
      ],
      "execution_count": 45,
      "outputs": [
        {
          "output_type": "display_data",
          "data": {
            "text/html": [
              ""
            ],
            "text/plain": [
              "<IPython.core.display.HTML object>"
            ]
          },
          "metadata": {
            "tags": []
          }
        },
        {
          "output_type": "stream",
          "text": [
            "LR Finder is complete, type {learner_name}.recorder.plot() to see the graph.\n"
          ],
          "name": "stdout"
        }
      ]
    },
    {
      "metadata": {
        "id": "DVITQxbfSll6",
        "colab_type": "code",
        "outputId": "82ad6feb-8fec-4723-d8d6-8bd4ad8ec343",
        "colab": {
          "base_uri": "https://localhost:8080/",
          "height": 301
        }
      },
      "cell_type": "code",
      "source": [
        "learn.recorder.plot()"
      ],
      "execution_count": 46,
      "outputs": [
        {
          "output_type": "stream",
          "text": [
            "Min numerical gradient: 9.12E-03\n"
          ],
          "name": "stdout"
        },
        {
          "output_type": "display_data",
          "data": {
            "image/png": "[encoded data removed]",
            "text/plain": [
              "<Figure size 432x288 with 1 Axes>"
            ]
          },
          "metadata": {
            "tags": []
          }
        }
      ]
    },
    {
      "metadata": {
        "id": "hDcjxieISpxg",
        "colab_type": "code",
        "outputId": "2bd77d2c-b9dc-4945-c2cc-0671373c5de8",
        "colab": {
          "base_uri": "https://localhost:8080/",
          "height": 94
        }
      },
      "cell_type": "code",
      "source": [
        "learn.fit_one_cycle(1, 1e-3, wd=0.2)"
      ],
      "execution_count": 47,
      "outputs": [
        {
          "output_type": "display_data",
          "data": {
            "text/html": [
              "Total time: 01:27 <p><table style='width:300px; margin-bottom:10px'>\n",
              "  <tr>\n",
              "    <th>epoch</th>\n",
              "    <th>train_loss</th>\n",
              "    <th>valid_loss</th>\n",
              "    <th>mean_squared_error</th>\n",
              "  </tr>\n",
              "  <tr>\n",
              "    <th>1</th>\n",
              "    <th>425.114105</th>\n",
              "    <th>2532.755371</th>\n",
              "    <th>2532.755859</th>\n",
              "  </tr>\n",
              "</table>\n"
            ],
            "text/plain": [
              "<IPython.core.display.HTML object>"
            ]
          },
          "metadata": {
            "tags": []
          }
        }
      ]
    },
    {
      "metadata": {
        "id": "oWyVOKavSse0",
        "colab_type": "code",
        "colab": {}
      },
      "cell_type": "code",
      "source": [
        "learn.save('8')"
      ],
      "execution_count": 0,
      "outputs": []
    },
    {
      "metadata": {
        "id": "THC9NYOKSvD7",
        "colab_type": "code",
        "colab": {}
      },
      "cell_type": "code",
      "source": [
        "# learn.recorder.plot_losses(last=-1)"
      ],
      "execution_count": 0,
      "outputs": []
    },
    {
      "metadata": {
        "id": "jI6VdED3WDWk",
        "colab_type": "code",
        "colab": {
          "base_uri": "https://localhost:8080/",
          "height": 198
        },
        "outputId": "f9954942-1ade-40c7-8abf-b0e9cdc16640"
      },
      "cell_type": "code",
      "source": [
        "preds, _ = learn.get_preds(ds_type=DatasetType.Test)\n",
        "test_df[y] = preds.data.numpy().T[0]\n",
        "test_df.head()"
      ],
      "execution_count": 50,
      "outputs": [
        {
          "output_type": "execute_result",
          "data": {
            "text/html": [
              "<div>\n",
              "<style scoped>\n",
              "    .dataframe tbody tr th:only-of-type {\n",
              "        vertical-align: middle;\n",
              "    }\n",
              "\n",
              "    .dataframe tbody tr th {\n",
              "        vertical-align: top;\n",
              "    }\n",
              "\n",
              "    .dataframe thead th {\n",
              "        text-align: right;\n",
              "    }\n",
              "</style>\n",
              "<table border=\"1\" class=\"dataframe\">\n",
              "  <thead>\n",
              "    <tr style=\"text-align: right;\">\n",
              "      <th></th>\n",
              "      <th>make</th>\n",
              "      <th>model</th>\n",
              "      <th>region</th>\n",
              "      <th>age</th>\n",
              "      <th>price</th>\n",
              "      <th>mileage</th>\n",
              "      <th>price_per_mile</th>\n",
              "      <th>date_added</th>\n",
              "      <th>url</th>\n",
              "      <th>days_listed</th>\n",
              "    </tr>\n",
              "  </thead>\n",
              "  <tbody>\n",
              "    <tr>\n",
              "      <th>148</th>\n",
              "      <td>Nissan</td>\n",
              "      <td>Murano</td>\n",
              "      <td>Austin South</td>\n",
              "      <td>10</td>\n",
              "      <td>-0.635786</td>\n",
              "      <td>0.666427</td>\n",
              "      <td>-0.086009</td>\n",
              "      <td>2016-03-07</td>\n",
              "      <td>12264269</td>\n",
              "      <td>32.340958</td>\n",
              "    </tr>\n",
              "    <tr>\n",
              "      <th>3371</th>\n",
              "      <td>Kia</td>\n",
              "      <td>Optima EX</td>\n",
              "      <td>Lynchburg, VA</td>\n",
              "      <td>2</td>\n",
              "      <td>-0.204150</td>\n",
              "      <td>-0.713351</td>\n",
              "      <td>-0.077102</td>\n",
              "      <td>2015-10-14</td>\n",
              "      <td>11781859</td>\n",
              "      <td>21.625734</td>\n",
              "    </tr>\n",
              "    <tr>\n",
              "      <th>4343</th>\n",
              "      <td>Kia</td>\n",
              "      <td>Optima Hybrid LX</td>\n",
              "      <td>Milwaukee, WI</td>\n",
              "      <td>2</td>\n",
              "      <td>-0.331139</td>\n",
              "      <td>-0.437396</td>\n",
              "      <td>-0.080889</td>\n",
              "      <td>2015-10-14</td>\n",
              "      <td>12157847</td>\n",
              "      <td>35.391743</td>\n",
              "    </tr>\n",
              "    <tr>\n",
              "      <th>5350</th>\n",
              "      <td>Toyota</td>\n",
              "      <td>Venza</td>\n",
              "      <td>Omaha, NE</td>\n",
              "      <td>7</td>\n",
              "      <td>-0.458128</td>\n",
              "      <td>0.824116</td>\n",
              "      <td>-0.085949</td>\n",
              "      <td>2015-10-14</td>\n",
              "      <td>11842824</td>\n",
              "      <td>21.174271</td>\n",
              "    </tr>\n",
              "    <tr>\n",
              "      <th>8409</th>\n",
              "      <td>Nissan</td>\n",
              "      <td>Maxima</td>\n",
              "      <td>Ft. Lauderdale</td>\n",
              "      <td>7</td>\n",
              "      <td>-0.331139</td>\n",
              "      <td>0.587583</td>\n",
              "      <td>-0.085261</td>\n",
              "      <td>2016-03-06</td>\n",
              "      <td>12068270</td>\n",
              "      <td>24.993774</td>\n",
              "    </tr>\n",
              "  </tbody>\n",
              "</table>\n",
              "</div>"
            ],
            "text/plain": [
              "        make             model          region age     price   mileage  \\\n",
              "148   Nissan            Murano    Austin South  10 -0.635786  0.666427   \n",
              "3371     Kia         Optima EX   Lynchburg, VA   2 -0.204150 -0.713351   \n",
              "4343     Kia  Optima Hybrid LX   Milwaukee, WI   2 -0.331139 -0.437396   \n",
              "5350  Toyota             Venza       Omaha, NE   7 -0.458128  0.824116   \n",
              "8409  Nissan            Maxima  Ft. Lauderdale   7 -0.331139  0.587583   \n",
              "\n",
              "      price_per_mile date_added       url  days_listed  \n",
              "148        -0.086009 2016-03-07  12264269    32.340958  \n",
              "3371       -0.077102 2015-10-14  11781859    21.625734  \n",
              "4343       -0.080889 2015-10-14  12157847    35.391743  \n",
              "5350       -0.085949 2015-10-14  11842824    21.174271  \n",
              "8409       -0.085261 2016-03-06  12068270    24.993774  "
            ]
          },
          "metadata": {
            "tags": []
          },
          "execution_count": 50
        }
      ]
    },
    {
      "metadata": {
        "id": "4FrsWoyCTacu",
        "colab_type": "text"
      },
      "cell_type": "markdown",
      "source": [
        "## Can we predict sales for CarMax?\n",
        "\n",
        "---\n",
        "We attempt to predict how many days does it take to sell a car from the day it is first listed and then we proceed to forecast monthly sales for CarMax.\n",
        "\n"
      ]
    },
    {
      "metadata": {
        "id": "hYeSJvPYHWW0",
        "colab_type": "code",
        "colab": {}
      },
      "cell_type": "code",
      "source": [
        "df = test_df"
      ],
      "execution_count": 0,
      "outputs": []
    },
    {
      "metadata": {
        "id": "aTGjouvLP7WY",
        "colab_type": "text"
      },
      "cell_type": "markdown",
      "source": [
        "First, add the predicted days to the first day the car was listed to see when it was sold."
      ]
    },
    {
      "metadata": {
        "id": "NawKH_KKHL9d",
        "colab_type": "code",
        "colab": {
          "base_uri": "https://localhost:8080/",
          "height": 250
        },
        "outputId": "b1f8cc57-ea2f-426b-ea1f-5169e7c5b77b"
      },
      "cell_type": "code",
      "source": [
        "temp = df['days_listed'].apply(lambda x: pd.Timedelta(x, unit='D'))\n",
        "df['sold_date'] = df['date_added'] + temp\n",
        "df['sold_date'] = df['sold_date'].dt.date\n",
        "\n",
        "df.head()"
      ],
      "execution_count": 52,
      "outputs": [
        {
          "output_type": "execute_result",
          "data": {
            "text/html": [
              "<div>\n",
              "<style scoped>\n",
              "    .dataframe tbody tr th:only-of-type {\n",
              "        vertical-align: middle;\n",
              "    }\n",
              "\n",
              "    .dataframe tbody tr th {\n",
              "        vertical-align: top;\n",
              "    }\n",
              "\n",
              "    .dataframe thead th {\n",
              "        text-align: right;\n",
              "    }\n",
              "</style>\n",
              "<table border=\"1\" class=\"dataframe\">\n",
              "  <thead>\n",
              "    <tr style=\"text-align: right;\">\n",
              "      <th></th>\n",
              "      <th>make</th>\n",
              "      <th>model</th>\n",
              "      <th>region</th>\n",
              "      <th>age</th>\n",
              "      <th>price</th>\n",
              "      <th>mileage</th>\n",
              "      <th>price_per_mile</th>\n",
              "      <th>date_added</th>\n",
              "      <th>url</th>\n",
              "      <th>days_listed</th>\n",
              "      <th>sold_date</th>\n",
              "    </tr>\n",
              "  </thead>\n",
              "  <tbody>\n",
              "    <tr>\n",
              "      <th>148</th>\n",
              "      <td>Nissan</td>\n",
              "      <td>Murano</td>\n",
              "      <td>Austin South</td>\n",
              "      <td>10</td>\n",
              "      <td>-0.635786</td>\n",
              "      <td>0.666427</td>\n",
              "      <td>-0.086009</td>\n",
              "      <td>2016-03-07</td>\n",
              "      <td>12264269</td>\n",
              "      <td>32.340958</td>\n",
              "      <td>2016-04-08</td>\n",
              "    </tr>\n",
              "    <tr>\n",
              "      <th>3371</th>\n",
              "      <td>Kia</td>\n",
              "      <td>Optima EX</td>\n",
              "      <td>Lynchburg, VA</td>\n",
              "      <td>2</td>\n",
              "      <td>-0.204150</td>\n",
              "      <td>-0.713351</td>\n",
              "      <td>-0.077102</td>\n",
              "      <td>2015-10-14</td>\n",
              "      <td>11781859</td>\n",
              "      <td>21.625734</td>\n",
              "      <td>2015-11-04</td>\n",
              "    </tr>\n",
              "    <tr>\n",
              "      <th>4343</th>\n",
              "      <td>Kia</td>\n",
              "      <td>Optima Hybrid LX</td>\n",
              "      <td>Milwaukee, WI</td>\n",
              "      <td>2</td>\n",
              "      <td>-0.331139</td>\n",
              "      <td>-0.437396</td>\n",
              "      <td>-0.080889</td>\n",
              "      <td>2015-10-14</td>\n",
              "      <td>12157847</td>\n",
              "      <td>35.391743</td>\n",
              "      <td>2015-11-18</td>\n",
              "    </tr>\n",
              "    <tr>\n",
              "      <th>5350</th>\n",
              "      <td>Toyota</td>\n",
              "      <td>Venza</td>\n",
              "      <td>Omaha, NE</td>\n",
              "      <td>7</td>\n",
              "      <td>-0.458128</td>\n",
              "      <td>0.824116</td>\n",
              "      <td>-0.085949</td>\n",
              "      <td>2015-10-14</td>\n",
              "      <td>11842824</td>\n",
              "      <td>21.174271</td>\n",
              "      <td>2015-11-04</td>\n",
              "    </tr>\n",
              "    <tr>\n",
              "      <th>8409</th>\n",
              "      <td>Nissan</td>\n",
              "      <td>Maxima</td>\n",
              "      <td>Ft. Lauderdale</td>\n",
              "      <td>7</td>\n",
              "      <td>-0.331139</td>\n",
              "      <td>0.587583</td>\n",
              "      <td>-0.085261</td>\n",
              "      <td>2016-03-06</td>\n",
              "      <td>12068270</td>\n",
              "      <td>24.993774</td>\n",
              "      <td>2016-03-30</td>\n",
              "    </tr>\n",
              "  </tbody>\n",
              "</table>\n",
              "</div>"
            ],
            "text/plain": [
              "        make             model          region age     price   mileage  \\\n",
              "148   Nissan            Murano    Austin South  10 -0.635786  0.666427   \n",
              "3371     Kia         Optima EX   Lynchburg, VA   2 -0.204150 -0.713351   \n",
              "4343     Kia  Optima Hybrid LX   Milwaukee, WI   2 -0.331139 -0.437396   \n",
              "5350  Toyota             Venza       Omaha, NE   7 -0.458128  0.824116   \n",
              "8409  Nissan            Maxima  Ft. Lauderdale   7 -0.331139  0.587583   \n",
              "\n",
              "      price_per_mile date_added       url  days_listed   sold_date  \n",
              "148        -0.086009 2016-03-07  12264269    32.340958  2016-04-08  \n",
              "3371       -0.077102 2015-10-14  11781859    21.625734  2015-11-04  \n",
              "4343       -0.080889 2015-10-14  12157847    35.391743  2015-11-18  \n",
              "5350       -0.085949 2015-10-14  11842824    21.174271  2015-11-04  \n",
              "8409       -0.085261 2016-03-06  12068270    24.993774  2016-03-30  "
            ]
          },
          "metadata": {
            "tags": []
          },
          "execution_count": 52
        }
      ]
    },
    {
      "metadata": {
        "id": "pxjkXWLEQKxG",
        "colab_type": "text"
      },
      "cell_type": "markdown",
      "source": [
        "Filter the data to only contain cars that were assumed to be sold between 9/2016 and 11/2016 and then return to the original test data to retrieve their prices."
      ]
    },
    {
      "metadata": {
        "id": "Mzo3C-HGQGWv",
        "colab_type": "code",
        "colab": {}
      },
      "cell_type": "code",
      "source": [
        "predicted_df = df[(df['sold_date'] >= datetime.date(2016, 9, 1)) &\n",
        "                  (df['sold_date'] <= datetime.date(2016, 11, 30))]\n",
        "\n",
        "actual_test_df = pd.read_pickle(f\"{PATH}clean_test.pkl\")\n",
        "\n",
        "expected_cars_ids = predicted_df['url'].tolist()\n",
        "\n",
        "expected_cars_df = actual_test_df[actual_test_df['url'].isin(expected_cars_ids)]"
      ],
      "execution_count": 0,
      "outputs": []
    },
    {
      "metadata": {
        "id": "PpwEb2juHbqz",
        "colab_type": "code",
        "colab": {
          "base_uri": "https://localhost:8080/",
          "height": 35
        },
        "outputId": "d37ee0ba-05bc-4d27-db84-310f4765c42a"
      },
      "cell_type": "code",
      "source": [
        "expected_cars_df.shape[0]"
      ],
      "execution_count": 54,
      "outputs": [
        {
          "output_type": "execute_result",
          "data": {
            "text/plain": [
              "128530"
            ]
          },
          "metadata": {
            "tags": []
          },
          "execution_count": 54
        }
      ]
    },
    {
      "metadata": {
        "id": "_bhTe-MCQmr9",
        "colab_type": "text"
      },
      "cell_type": "markdown",
      "source": [
        "The model only predicted 128,530 cars would be sold in the 3 months, quite a good estimation compared to 156,789 (from page 22 of [10-Q](http://d18rn0p25nwr6d.cloudfront.net/CIK-0001170010/da35a153-543f-41c1-a41c-683c66175a52.pdf))."
      ]
    },
    {
      "metadata": {
        "id": "MVkW67DxRymx",
        "colab_type": "text"
      },
      "cell_type": "markdown",
      "source": [
        "## Second attempt: fbprophet!\n",
        "\n",
        "---\n",
        "\n",
        "Can we instead, just predict the car sales each day?"
      ]
    },
    {
      "metadata": {
        "id": "4_fWXbidOAMB",
        "colab_type": "code",
        "colab": {}
      },
      "cell_type": "code",
      "source": [
        "from fbprophet import Prophet\n",
        "import pandas as pd\n",
        "import seaborn as sns\n",
        "import matplotlib.pyplot as plt\n",
        "import numpy as np\n",
        "import datetime\n",
        "import feather\n",
        "\n",
        "import warnings\n",
        "warnings.simplefilter(action='ignore')"
      ],
      "execution_count": 0,
      "outputs": []
    },
    {
      "metadata": {
        "id": "LRPVQTA5Smsx",
        "colab_type": "code",
        "colab": {
          "base_uri": "https://localhost:8080/",
          "height": 198
        },
        "outputId": "60973618-78eb-4337-d0f6-570ed1f6f75b"
      },
      "cell_type": "code",
      "source": [
        "df = feather.read_dataframe('/content/drive/My Drive/Colab Notebooks/dataset/kmx_head.feather')\n",
        "\n",
        "df['date_added'] = pd.to_datetime(df['date_added'])\n",
        "temp = df['days_listed'].apply(lambda x: pd.Timedelta(x, unit='D'))\n",
        "df['sold_date'] = df['date_added'] + temp\n",
        "\n",
        "\n",
        "df.head()"
      ],
      "execution_count": 56,
      "outputs": [
        {
          "output_type": "execute_result",
          "data": {
            "text/html": [
              "<div>\n",
              "<style scoped>\n",
              "    .dataframe tbody tr th:only-of-type {\n",
              "        vertical-align: middle;\n",
              "    }\n",
              "\n",
              "    .dataframe tbody tr th {\n",
              "        vertical-align: top;\n",
              "    }\n",
              "\n",
              "    .dataframe thead th {\n",
              "        text-align: right;\n",
              "    }\n",
              "</style>\n",
              "<table border=\"1\" class=\"dataframe\">\n",
              "  <thead>\n",
              "    <tr style=\"text-align: right;\">\n",
              "      <th></th>\n",
              "      <th>url</th>\n",
              "      <th>date_added</th>\n",
              "      <th>price</th>\n",
              "      <th>year</th>\n",
              "      <th>make</th>\n",
              "      <th>model</th>\n",
              "      <th>mileage</th>\n",
              "      <th>region</th>\n",
              "      <th>days_listed</th>\n",
              "      <th>sold_date</th>\n",
              "    </tr>\n",
              "  </thead>\n",
              "  <tbody>\n",
              "    <tr>\n",
              "      <th>0</th>\n",
              "      <td>12346985</td>\n",
              "      <td>2015-10-06</td>\n",
              "      <td>21599.0</td>\n",
              "      <td>2012</td>\n",
              "      <td>Acura</td>\n",
              "      <td>TSX</td>\n",
              "      <td>16000</td>\n",
              "      <td>Columbia, SC</td>\n",
              "      <td>15</td>\n",
              "      <td>2015-10-21</td>\n",
              "    </tr>\n",
              "    <tr>\n",
              "      <th>1</th>\n",
              "      <td>12377212</td>\n",
              "      <td>2015-10-06</td>\n",
              "      <td>14599.0</td>\n",
              "      <td>2013</td>\n",
              "      <td>Dodge</td>\n",
              "      <td>Dart SE</td>\n",
              "      <td>18000</td>\n",
              "      <td>Los Angeles, CA</td>\n",
              "      <td>75</td>\n",
              "      <td>2015-12-20</td>\n",
              "    </tr>\n",
              "    <tr>\n",
              "      <th>2</th>\n",
              "      <td>12141829</td>\n",
              "      <td>2015-10-06</td>\n",
              "      <td>33998.0</td>\n",
              "      <td>2014</td>\n",
              "      <td>Toyota</td>\n",
              "      <td>FJ Cruiser</td>\n",
              "      <td>18000</td>\n",
              "      <td>Houston, TX</td>\n",
              "      <td>83</td>\n",
              "      <td>2015-12-28</td>\n",
              "    </tr>\n",
              "    <tr>\n",
              "      <th>3</th>\n",
              "      <td>12271909</td>\n",
              "      <td>2015-10-06</td>\n",
              "      <td>19599.0</td>\n",
              "      <td>2014</td>\n",
              "      <td>Toyota</td>\n",
              "      <td>Camry SE</td>\n",
              "      <td>5000</td>\n",
              "      <td>Tinley Park, IL</td>\n",
              "      <td>12</td>\n",
              "      <td>2015-10-18</td>\n",
              "    </tr>\n",
              "    <tr>\n",
              "      <th>4</th>\n",
              "      <td>11951142</td>\n",
              "      <td>2015-10-06</td>\n",
              "      <td>14998.0</td>\n",
              "      <td>2009</td>\n",
              "      <td>Honda</td>\n",
              "      <td>Accord EX-L</td>\n",
              "      <td>56000</td>\n",
              "      <td>Hillside, IL</td>\n",
              "      <td>35</td>\n",
              "      <td>2015-11-10</td>\n",
              "    </tr>\n",
              "  </tbody>\n",
              "</table>\n",
              "</div>"
            ],
            "text/plain": [
              "        url date_added    price  year    make        model  mileage  \\\n",
              "0  12346985 2015-10-06  21599.0  2012   Acura          TSX    16000   \n",
              "1  12377212 2015-10-06  14599.0  2013   Dodge      Dart SE    18000   \n",
              "2  12141829 2015-10-06  33998.0  2014  Toyota   FJ Cruiser    18000   \n",
              "3  12271909 2015-10-06  19599.0  2014  Toyota     Camry SE     5000   \n",
              "4  11951142 2015-10-06  14998.0  2009   Honda  Accord EX-L    56000   \n",
              "\n",
              "            region  days_listed  sold_date  \n",
              "0     Columbia, SC           15 2015-10-21  \n",
              "1  Los Angeles, CA           75 2015-12-20  \n",
              "2      Houston, TX           83 2015-12-28  \n",
              "3  Tinley Park, IL           12 2015-10-18  \n",
              "4     Hillside, IL           35 2015-11-10  "
            ]
          },
          "metadata": {
            "tags": []
          },
          "execution_count": 56
        }
      ]
    },
    {
      "metadata": {
        "id": "LmWySKp8SUi0",
        "colab_type": "code",
        "colab": {
          "base_uri": "https://localhost:8080/",
          "height": 198
        },
        "outputId": "65d5bcbe-580b-4ba0-f6a8-b0602e0077f1"
      },
      "cell_type": "code",
      "source": [
        "sales_trend = df['sold_date'].value_counts().sort_index()\n",
        "\n",
        "sales_df = pd.DataFrame({'sold_date': sales_trend.index,\n",
        "                         'num_sales': sales_trend.values})\n",
        "\n",
        "median = sales_df.loc[(sales_df['num_sales'] < 3000) & \n",
        "                      (sales_df['num_sales'] > 1000), \n",
        "                      'num_sales'].median()\n",
        "\n",
        "sales_df[\"num_sales\"] = np.where((sales_df[\"num_sales\"] > 3000) |\n",
        "                                 (sales_df[\"num_sales\"] < 1000), \n",
        "                                  median, \n",
        "                                  sales_df['num_sales'])\n",
        "\n",
        "# sales_df = sales_df[(sales_df['num_sales'] < 3000) & \n",
        "#                     (sales_df['num_sales'] > 1000)]\n",
        "\n",
        "sales_df = sales_df[sales_df['sold_date'] < datetime.date(2017,2,1)]\n",
        "\n",
        "sales_df['sold_date'] = sales_df['sold_date'].dt.date\n",
        "\n",
        "\n",
        "sales_df.tail()"
      ],
      "execution_count": 57,
      "outputs": [
        {
          "output_type": "execute_result",
          "data": {
            "text/html": [
              "<div>\n",
              "<style scoped>\n",
              "    .dataframe tbody tr th:only-of-type {\n",
              "        vertical-align: middle;\n",
              "    }\n",
              "\n",
              "    .dataframe tbody tr th {\n",
              "        vertical-align: top;\n",
              "    }\n",
              "\n",
              "    .dataframe thead th {\n",
              "        text-align: right;\n",
              "    }\n",
              "</style>\n",
              "<table border=\"1\" class=\"dataframe\">\n",
              "  <thead>\n",
              "    <tr style=\"text-align: right;\">\n",
              "      <th></th>\n",
              "      <th>num_sales</th>\n",
              "      <th>sold_date</th>\n",
              "    </tr>\n",
              "  </thead>\n",
              "  <tbody>\n",
              "    <tr>\n",
              "      <th>487</th>\n",
              "      <td>1826.0</td>\n",
              "      <td>2017-01-27</td>\n",
              "    </tr>\n",
              "    <tr>\n",
              "      <th>488</th>\n",
              "      <td>1826.0</td>\n",
              "      <td>2017-01-28</td>\n",
              "    </tr>\n",
              "    <tr>\n",
              "      <th>489</th>\n",
              "      <td>1826.0</td>\n",
              "      <td>2017-01-29</td>\n",
              "    </tr>\n",
              "    <tr>\n",
              "      <th>490</th>\n",
              "      <td>2643.0</td>\n",
              "      <td>2017-01-30</td>\n",
              "    </tr>\n",
              "    <tr>\n",
              "      <th>491</th>\n",
              "      <td>2455.0</td>\n",
              "      <td>2017-01-31</td>\n",
              "    </tr>\n",
              "  </tbody>\n",
              "</table>\n",
              "</div>"
            ],
            "text/plain": [
              "     num_sales   sold_date\n",
              "487     1826.0  2017-01-27\n",
              "488     1826.0  2017-01-28\n",
              "489     1826.0  2017-01-29\n",
              "490     2643.0  2017-01-30\n",
              "491     2455.0  2017-01-31"
            ]
          },
          "metadata": {
            "tags": []
          },
          "execution_count": 57
        }
      ]
    },
    {
      "metadata": {
        "id": "qwTD6XnvS_o3",
        "colab_type": "code",
        "colab": {
          "base_uri": "https://localhost:8080/",
          "height": 121
        },
        "outputId": "42040f95-a3dd-4cab-9a6d-89c13bda22e9"
      },
      "cell_type": "code",
      "source": [
        "sales_df.columns = ['y', 'ds']\n",
        "sales_df.head()\n",
        "\n",
        "train = sales_df[:400]\n",
        "test = sales_df[400:]\n",
        "\n",
        "actual_y = test['y']\n",
        "actual_y[:5]"
      ],
      "execution_count": 58,
      "outputs": [
        {
          "output_type": "execute_result",
          "data": {
            "text/plain": [
              "400    1787.0\n",
              "401    1542.0\n",
              "402    1615.0\n",
              "403    1596.0\n",
              "404    1847.0\n",
              "Name: y, dtype: float64"
            ]
          },
          "metadata": {
            "tags": []
          },
          "execution_count": 58
        }
      ]
    },
    {
      "metadata": {
        "id": "LhUulsOoYemf",
        "colab_type": "code",
        "colab": {
          "base_uri": "https://localhost:8080/",
          "height": 198
        },
        "outputId": "9e32cab7-5268-40ca-f4fc-078f946a6d4e"
      },
      "cell_type": "code",
      "source": [
        "test.head()"
      ],
      "execution_count": 59,
      "outputs": [
        {
          "output_type": "execute_result",
          "data": {
            "text/html": [
              "<div>\n",
              "<style scoped>\n",
              "    .dataframe tbody tr th:only-of-type {\n",
              "        vertical-align: middle;\n",
              "    }\n",
              "\n",
              "    .dataframe tbody tr th {\n",
              "        vertical-align: top;\n",
              "    }\n",
              "\n",
              "    .dataframe thead th {\n",
              "        text-align: right;\n",
              "    }\n",
              "</style>\n",
              "<table border=\"1\" class=\"dataframe\">\n",
              "  <thead>\n",
              "    <tr style=\"text-align: right;\">\n",
              "      <th></th>\n",
              "      <th>y</th>\n",
              "      <th>ds</th>\n",
              "    </tr>\n",
              "  </thead>\n",
              "  <tbody>\n",
              "    <tr>\n",
              "      <th>400</th>\n",
              "      <td>1787.0</td>\n",
              "      <td>2016-11-01</td>\n",
              "    </tr>\n",
              "    <tr>\n",
              "      <th>401</th>\n",
              "      <td>1542.0</td>\n",
              "      <td>2016-11-02</td>\n",
              "    </tr>\n",
              "    <tr>\n",
              "      <th>402</th>\n",
              "      <td>1615.0</td>\n",
              "      <td>2016-11-03</td>\n",
              "    </tr>\n",
              "    <tr>\n",
              "      <th>403</th>\n",
              "      <td>1596.0</td>\n",
              "      <td>2016-11-04</td>\n",
              "    </tr>\n",
              "    <tr>\n",
              "      <th>404</th>\n",
              "      <td>1847.0</td>\n",
              "      <td>2016-11-05</td>\n",
              "    </tr>\n",
              "  </tbody>\n",
              "</table>\n",
              "</div>"
            ],
            "text/plain": [
              "          y          ds\n",
              "400  1787.0  2016-11-01\n",
              "401  1542.0  2016-11-02\n",
              "402  1615.0  2016-11-03\n",
              "403  1596.0  2016-11-04\n",
              "404  1847.0  2016-11-05"
            ]
          },
          "metadata": {
            "tags": []
          },
          "execution_count": 59
        }
      ]
    },
    {
      "metadata": {
        "id": "V6OpBoSnUJ0Q",
        "colab_type": "code",
        "colab": {
          "base_uri": "https://localhost:8080/",
          "height": 500
        },
        "outputId": "11ce19a9-3e47-4c50-97eb-1c1e47e94a4d"
      },
      "cell_type": "code",
      "source": [
        "fig, ax = plt.subplots()\n",
        "fig.set_size_inches(16, 8)\n",
        "\n",
        "ax = sns.scatterplot(x=train.ds, y=train.y)\n",
        "ax = sns.scatterplot(x=test.ds, y=test.y)\n",
        "\n",
        "ax.axes.set_xlim(train.ds.min(), test.ds.max());"
      ],
      "execution_count": 60,
      "outputs": [
        {
          "output_type": "display_data",
          "data": {
            "image/png": "[encoded data removed]",
            "text/plain": [
              "<Figure size 1152x576 with 1 Axes>"
            ]
          },
          "metadata": {
            "tags": []
          }
        }
      ]
    },
    {
      "metadata": {
        "id": "kR65rRuMUSRH",
        "colab_type": "code",
        "colab": {
          "base_uri": "https://localhost:8080/",
          "height": 86
        },
        "outputId": "1528031a-b181-45f7-80f2-42228755634f"
      },
      "cell_type": "code",
      "source": [
        "%%time\n",
        "train['cap'] = train.y.max()\n",
        "train['floor'] = train.y.min()\n",
        "\n",
        "m = Prophet(growth='logistic', \n",
        "            changepoints=['2016-10-31'], \n",
        "            changepoint_prior_scale=0.01, \n",
        "            interval_width=0.8) \n",
        "\n",
        "m.add_seasonality(name='monthly', period=30.5, fourier_order=1)\n",
        "m.add_seasonality(name='quarterly', period=91.25, fourier_order=5, prior_scale=0.1)\n",
        "m.add_seasonality(name='yearly', period=365.25, fourier_order=10)\n",
        "\n",
        "m.fit(train)"
      ],
      "execution_count": 61,
      "outputs": [
        {
          "output_type": "stream",
          "text": [
            "INFO:fbprophet:Found custom seasonality named \"yearly\", disabling built-in yearly seasonality.\n",
            "INFO:fbprophet:Disabling daily seasonality. Run prophet with daily_seasonality=True to override this.\n"
          ],
          "name": "stderr"
        },
        {
          "output_type": "stream",
          "text": [
            "CPU times: user 28.2 s, sys: 81.9 ms, total: 28.3 s\n",
            "Wall time: 28.3 s\n"
          ],
          "name": "stdout"
        }
      ]
    },
    {
      "metadata": {
        "id": "wFCfbtt5Yhbe",
        "colab_type": "code",
        "colab": {
          "base_uri": "https://localhost:8080/",
          "height": 198
        },
        "outputId": "9ede22cd-aadb-410d-82a8-020ec25f9653"
      },
      "cell_type": "code",
      "source": [
        "future = m.make_future_dataframe(periods=12, freq='W')\n",
        "future['cap'] = 1.4 #approx max for last year same period\n",
        "future['floor'] = train.y.min()\n",
        "\n",
        "forecast = m.predict(future)\n",
        "forecast[['ds', 'yhat', 'yhat_lower', 'yhat_upper']].tail()"
      ],
      "execution_count": 62,
      "outputs": [
        {
          "output_type": "execute_result",
          "data": {
            "text/html": [
              "<div>\n",
              "<style scoped>\n",
              "    .dataframe tbody tr th:only-of-type {\n",
              "        vertical-align: middle;\n",
              "    }\n",
              "\n",
              "    .dataframe tbody tr th {\n",
              "        vertical-align: top;\n",
              "    }\n",
              "\n",
              "    .dataframe thead th {\n",
              "        text-align: right;\n",
              "    }\n",
              "</style>\n",
              "<table border=\"1\" class=\"dataframe\">\n",
              "  <thead>\n",
              "    <tr style=\"text-align: right;\">\n",
              "      <th></th>\n",
              "      <th>ds</th>\n",
              "      <th>yhat</th>\n",
              "      <th>yhat_lower</th>\n",
              "      <th>yhat_upper</th>\n",
              "    </tr>\n",
              "  </thead>\n",
              "  <tbody>\n",
              "    <tr>\n",
              "      <th>407</th>\n",
              "      <td>2016-12-25</td>\n",
              "      <td>691.924355</td>\n",
              "      <td>467.225137</td>\n",
              "      <td>929.022867</td>\n",
              "    </tr>\n",
              "    <tr>\n",
              "      <th>408</th>\n",
              "      <td>2017-01-01</td>\n",
              "      <td>808.746008</td>\n",
              "      <td>585.669861</td>\n",
              "      <td>1034.896297</td>\n",
              "    </tr>\n",
              "    <tr>\n",
              "      <th>409</th>\n",
              "      <td>2017-01-08</td>\n",
              "      <td>855.530322</td>\n",
              "      <td>632.272012</td>\n",
              "      <td>1095.599443</td>\n",
              "    </tr>\n",
              "    <tr>\n",
              "      <th>410</th>\n",
              "      <td>2017-01-15</td>\n",
              "      <td>785.896830</td>\n",
              "      <td>574.973342</td>\n",
              "      <td>994.666431</td>\n",
              "    </tr>\n",
              "    <tr>\n",
              "      <th>411</th>\n",
              "      <td>2017-01-22</td>\n",
              "      <td>667.525190</td>\n",
              "      <td>430.405366</td>\n",
              "      <td>894.677626</td>\n",
              "    </tr>\n",
              "  </tbody>\n",
              "</table>\n",
              "</div>"
            ],
            "text/plain": [
              "            ds        yhat  yhat_lower   yhat_upper\n",
              "407 2016-12-25  691.924355  467.225137   929.022867\n",
              "408 2017-01-01  808.746008  585.669861  1034.896297\n",
              "409 2017-01-08  855.530322  632.272012  1095.599443\n",
              "410 2017-01-15  785.896830  574.973342   994.666431\n",
              "411 2017-01-22  667.525190  430.405366   894.677626"
            ]
          },
          "metadata": {
            "tags": []
          },
          "execution_count": 62
        }
      ]
    },
    {
      "metadata": {
        "id": "iWJLKEdQYsP5",
        "colab_type": "code",
        "colab": {
          "base_uri": "https://localhost:8080/",
          "height": 441
        },
        "outputId": "9c95ed02-21a6-4885-9564-fb659a292a26"
      },
      "cell_type": "code",
      "source": [
        "from  fbprophet.plot import add_changepoints_to_plot\n",
        "fig = m.plot(forecast)\n",
        "a = add_changepoints_to_plot(fig.gca(), m, forecast)"
      ],
      "execution_count": 63,
      "outputs": [
        {
          "output_type": "display_data",
          "data": {
            "image/png": "[encoded data removed]",
            "text/plain": [
              "<Figure size 720x432 with 1 Axes>"
            ]
          },
          "metadata": {
            "tags": []
          }
        }
      ]
    },
    {
      "metadata": {
        "id": "XPRfhv247f91",
        "colab_type": "text"
      },
      "cell_type": "markdown",
      "source": [
        ""
      ]
    },
    {
      "metadata": {
        "id": "4x157Px8YyMU",
        "colab_type": "code",
        "colab": {
          "base_uri": "https://localhost:8080/",
          "height": 1089
        },
        "outputId": "f1139cf4-1892-494e-901b-4f73d5b7e22b"
      },
      "cell_type": "code",
      "source": [
        "fig2 = m.plot_components(forecast);"
      ],
      "execution_count": 64,
      "outputs": [
        {
          "output_type": "display_data",
          "data": {
            "image/png": "[encoded data removed]",
            "text/plain": [
              "<Figure size 648x1080 with 5 Axes>"
            ]
          },
          "metadata": {
            "tags": []
          }
        }
      ]
    },
    {
      "metadata": {
        "id": "38UHEVpjaqh9",
        "colab_type": "code",
        "colab": {
          "base_uri": "https://localhost:8080/",
          "height": 35
        },
        "outputId": "bab66446-bb32-4df5-99f9-afb0a48199c7"
      },
      "cell_type": "code",
      "source": [
        "test = pd.concat([test.set_index('ds'),forecast.set_index('ds')], axis=1, join='inner')\n",
        "\n",
        "cols = ['yhat', 'yhat_lower', 'yhat_upper']\n",
        "test['yhat'] = (test.yhat).round(2)\n",
        "test['yhat_lower'] = (test.yhat_lower).round(2)\n",
        "test['yhat_upper'] = (test.yhat_upper).round(2)\n",
        "\n",
        "np.asarray(test['yhat'].tolist()[:5]) - np.asarray(actual_y[:5].tolist())"
      ],
      "execution_count": 65,
      "outputs": [
        {
          "output_type": "execute_result",
          "data": {
            "text/plain": [
              "array([ -729.15,  -495.55,  -662.24,  -945.42, -1442.81])"
            ]
          },
          "metadata": {
            "tags": []
          },
          "execution_count": 65
        }
      ]
    },
    {
      "metadata": {
        "id": "fOpOYdBZb6ea",
        "colab_type": "text"
      },
      "cell_type": "markdown",
      "source": [
        "Unfortunately, the predicted car sales for the first day is off by 729 compared to the actual sales."
      ]
    },
    {
      "metadata": {
        "id": "llG6qFDr_Yb6",
        "colab_type": "text"
      },
      "cell_type": "markdown",
      "source": [
        "## Conclusion: Our neural network helped us forecast sales by CarMax fairly accurately. In addition, we can still check for missing entries from the page on a monthly basis to forecast CarMax's monthly sales."
      ]
    }
  ]
}